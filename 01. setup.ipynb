{
 "cells": [
  {
   "cell_type": "code",
   "execution_count": 0,
   "metadata": {
    "application/vnd.databricks.v1+cell": {
     "cellMetadata": {
      "byteLimit": 2048000,
      "implicitDf": true,
      "rowLimit": 10000
     },
     "inputWidgets": {},
     "nuid": "cb637ec9-3691-4fad-93c4-bda1ba6f2b7d",
     "showTitle": false,
     "tableResultSettingsMap": {
      "0": {
       "dataGridStateBlob": "{\"version\":1,\"tableState\":{\"columnPinning\":{\"left\":[\"#row_number#\"],\"right\":[]},\"columnSizing\":{\"current_metastore()\":443},\"columnVisibility\":{}},\"settings\":{\"columns\":{}},\"syncTimestamp\":1753256971852}",
       "filterBlob": null,
       "queryPlanFiltersBlob": null,
       "tableResultIndex": 0
      }
     },
     "title": ""
    }
   },
   "outputs": [],
   "source": [
    "%sql\n",
    "-- Creating external location to access data from datalake container\n",
    "\n",
    "CREATE EXTERNAL LOCATION IF NOT EXISTS dea_course_ext_dl_demo\n",
    "URL 'abfss://gizmobox@deacourseextdldemo.dfs.core.windows.net/'\n",
    "WITH (STORAGE CREDENTIAL dea_course_ext_sc);"
   ]
  },
  {
   "cell_type": "code",
   "execution_count": 0,
   "metadata": {
    "application/vnd.databricks.v1+cell": {
     "cellMetadata": {
      "byteLimit": 2048000,
      "rowLimit": 10000
     },
     "inputWidgets": {},
     "nuid": "628affc3-82d1-45b2-b1ce-78e416c5201a",
     "showTitle": false,
     "tableResultSettingsMap": {},
     "title": ""
    }
   },
   "outputs": [],
   "source": [
    "# listing folders and files available in datalake container\n",
    "\n",
    "%fs ls\n",
    "'abfss://gizmobox@deacourseextdldemo.dfs.core.windows.net'"
   ]
  },
  {
   "cell_type": "code",
   "execution_count": 0,
   "metadata": {
    "application/vnd.databricks.v1+cell": {
     "cellMetadata": {
      "byteLimit": 2048000,
      "rowLimit": 10000
     },
     "inputWidgets": {},
     "nuid": "94fbe66d-0118-4c0c-b867-12775e68f8fd",
     "showTitle": false,
     "tableResultSettingsMap": {},
     "title": ""
    }
   },
   "outputs": [],
   "source": [
    "# reading orders data from datalake container\n",
    "\n",
    "orders_df = spark.read.format(\"json\").option('inferSchema', True).load('abfss://gizmobox@deacourseextdldemo.dfs.core.windows.net/orders/')"
   ]
  },
  {
   "cell_type": "code",
   "execution_count": 0,
   "metadata": {
    "application/vnd.databricks.v1+cell": {
     "cellMetadata": {
      "byteLimit": 2048000,
      "rowLimit": 10000
     },
     "inputWidgets": {},
     "nuid": "5b4be458-e1d9-4404-af27-def0b823746a",
     "showTitle": false,
     "tableResultSettingsMap": {},
     "title": ""
    }
   },
   "outputs": [],
   "source": [
    "# reading payments data from datalake container\n",
    "\n",
    "payments_df = spark.read.format(\"csv\").option('inferSchema', True).load('abfss://gizmobox@deacourseextdldemo.dfs.core.windows.net/payments/')"
   ]
  },
  {
   "cell_type": "code",
   "execution_count": 0,
   "metadata": {
    "application/vnd.databricks.v1+cell": {
     "cellMetadata": {
      "byteLimit": 2048000,
      "implicitDf": true,
      "rowLimit": 10000
     },
     "inputWidgets": {},
     "nuid": "46951ae5-5c7d-40c4-a854-5065abd688ef",
     "showTitle": false,
     "tableResultSettingsMap": {},
     "title": ""
    }
   },
   "outputs": [],
   "source": [
    "%sql\n",
    "-- Creating external location to access sales data from datalake container\n",
    "\n",
    "CREATE EXTERNAL LOCATION IF NOT EXISTS dea_course_ext_dl_sales\n",
    "URL 'abfss://salesdemo@deacourseextdldemo.dfs.core.windows.net/'\n",
    "WITH (STORAGE CREDENTIAL dea_course_ext_sc);"
   ]
  },
  {
   "cell_type": "code",
   "execution_count": 0,
   "metadata": {
    "application/vnd.databricks.v1+cell": {
     "cellMetadata": {
      "byteLimit": 2048000,
      "rowLimit": 10000
     },
     "inputWidgets": {},
     "nuid": "f770dd53-b91b-4bf5-849c-fe03c1b6cde0",
     "showTitle": false,
     "tableResultSettingsMap": {},
     "title": ""
    }
   },
   "outputs": [],
   "source": [
    "# reading sales data from datalake container\n",
    "\n",
    "sales_df = spark.read.format('csv').option('inferSchema', True).option('header', True).load('abfss://salesdemo@deacourseextdldemo.dfs.core.windows.net/sales.csv')"
   ]
  },
  {
   "cell_type": "code",
   "execution_count": 0,
   "metadata": {
    "application/vnd.databricks.v1+cell": {
     "cellMetadata": {
      "byteLimit": 2048000,
      "rowLimit": 10000
     },
     "inputWidgets": {},
     "nuid": "dba30837-b1a9-4971-b670-2d4cc0c75087",
     "showTitle": false,
     "tableResultSettingsMap": {},
     "title": ""
    }
   },
   "outputs": [],
   "source": [
    "# creating temporary view on sales_df\n",
    "\n",
    "sales_df.createOrReplaceTempView('vw_sales')"
   ]
  },
  {
   "cell_type": "code",
   "execution_count": 0,
   "metadata": {
    "application/vnd.databricks.v1+cell": {
     "cellMetadata": {
      "byteLimit": 2048000,
      "implicitDf": true,
      "rowLimit": 10000
     },
     "inputWidgets": {},
     "nuid": "aa9ee118-3090-4471-b99d-411c5ddf3a84",
     "showTitle": false,
     "tableResultSettingsMap": {},
     "title": ""
    }
   },
   "outputs": [],
   "source": [
    "%sql\n",
    "\n",
    "-- running sql queries to get data from view\n",
    "\n",
    "SELECT * FROM vw_sales;"
   ]
  },
  {
   "cell_type": "code",
   "execution_count": 0,
   "metadata": {
    "application/vnd.databricks.v1+cell": {
     "cellMetadata": {
      "byteLimit": 2048000,
      "implicitDf": true,
      "rowLimit": 10000
     },
     "inputWidgets": {},
     "nuid": "ec8b17b8-ba69-4c13-855c-f1f756f5f14d",
     "showTitle": false,
     "tableResultSettingsMap": {},
     "title": ""
    }
   },
   "outputs": [],
   "source": [
    "%sql\n",
    "\n",
    "-- getting month wise total sales\n",
    "\n",
    "SELECT date_format(order_date, 'yyyy-MM') AS month,\n",
    "       ROUND(SUM(sales_amount),2) AS total_sales\n",
    "FROM vw_sales\n",
    "GROUP BY month\n",
    "ORDER BY month;"
   ]
  },
  {
   "cell_type": "code",
   "execution_count": 0,
   "metadata": {
    "application/vnd.databricks.v1+cell": {
     "cellMetadata": {
      "byteLimit": 2048000,
      "implicitDf": true,
      "rowLimit": 10000
     },
     "inputWidgets": {},
     "nuid": "a100a993-ad24-433b-844b-5b00a9b2ef3f",
     "showTitle": false,
     "tableResultSettingsMap": {},
     "title": ""
    }
   },
   "outputs": [],
   "source": [
    "%sql\n",
    "\n",
    "-- getting month on month sales growth\n",
    "\n",
    "with sales as (SELECT date_format(order_date, 'yyyy-MM') AS month,\n",
    "      LAG(ROUND(SUM(sales_amount),2)) OVER(ORDER BY date_format(order_date, 'yyyy-MM')) AS previous_month_sales,\n",
    "       ROUND(SUM(sales_amount),2) AS current_month_sales\n",
    "FROM vw_sales\n",
    "GROUP BY month\n",
    "ORDER BY month)\n",
    "SELECT month,\n",
    "       previous_month_sales,\n",
    "       current_month_sales,\n",
    "       case when \n",
    "       previous_month_sales is null then 0\n",
    "       else ROUND((current_month_sales - previous_month_sales),2)\n",
    "       end as sales_growth,\n",
    "       case when \n",
    "       previous_month_sales is null then 0\n",
    "       else ROUND(((current_month_sales - previous_month_sales) / previous_month_sales) * 100,2) end as sales_growth_percent\n",
    "FROM sales"
   ]
  },
  {
   "cell_type": "code",
   "execution_count": 0,
   "metadata": {
    "application/vnd.databricks.v1+cell": {
     "cellMetadata": {},
     "inputWidgets": {},
     "nuid": "0cb6a4ec-5215-4766-9f2f-92182b6b0845",
     "showTitle": false,
     "tableResultSettingsMap": {},
     "title": ""
    }
   },
   "outputs": [],
   "source": []
  }
 ],
 "metadata": {
  "application/vnd.databricks.v1+notebook": {
   "computePreferences": null,
   "dashboards": [],
   "environmentMetadata": {
    "base_environment": "",
    "environment_version": "2"
   },
   "inputWidgetPreferences": null,
   "language": "python",
   "notebookMetadata": {
    "mostRecentlyExecutedCommandWithImplicitDF": {
     "commandId": 6314032664343238,
     "dataframes": [
      "_sqldf"
     ]
    },
    "pythonIndentUnit": 4
   },
   "notebookName": "01. setup",
   "widgets": {}
  },
  "language_info": {
   "name": "python"
  }
 },
 "nbformat": 4,
 "nbformat_minor": 0
}
