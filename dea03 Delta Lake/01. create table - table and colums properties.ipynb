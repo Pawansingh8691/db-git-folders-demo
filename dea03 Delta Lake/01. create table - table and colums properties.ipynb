{
 "cells": [
  {
   "cell_type": "code",
   "execution_count": 0,
   "metadata": {
    "application/vnd.databricks.v1+cell": {
     "cellMetadata": {
      "byteLimit": 2048000,
      "implicitDf": true,
      "rowLimit": 10000
     },
     "inputWidgets": {},
     "nuid": "0ce6f573-0e9b-4c71-ae95-fe87f64c6ae3",
     "showTitle": false,
     "tableResultSettingsMap": {},
     "title": ""
    }
   },
   "outputs": [],
   "source": [
    "%sql\n",
    "CREATE EXTERNAL LOCATION IF NOT EXISTS dea_course_ext_demo\n",
    "URL 'abfss://demo@deacourseextdldemo.dfs.core.windows.net/'\n",
    "WITH (STORAGE CREDENTIAL dea_course_ext_sc)\n",
    "COMMENT 'This storage credential is created for demo container'"
   ]
  },
  {
   "cell_type": "code",
   "execution_count": 0,
   "metadata": {
    "application/vnd.databricks.v1+cell": {
     "cellMetadata": {
      "byteLimit": 2048000,
      "implicitDf": true,
      "rowLimit": 10000
     },
     "inputWidgets": {},
     "nuid": "dfdbc43e-70ec-4e2d-b81e-94a602e1c72b",
     "showTitle": false,
     "tableResultSettingsMap": {},
     "title": ""
    }
   },
   "outputs": [],
   "source": [
    "%sql\n",
    "CREATE CATALOG demo\n",
    "MANAGED LOCATION 'abfss://demo@deacourseextdldemo.dfs.core.windows.net/'\n",
    "COMMENT 'This catalog is for demo purpose only';"
   ]
  },
  {
   "cell_type": "code",
   "execution_count": 0,
   "metadata": {
    "application/vnd.databricks.v1+cell": {
     "cellMetadata": {
      "byteLimit": 2048000,
      "implicitDf": true,
      "rowLimit": 10000
     },
     "inputWidgets": {},
     "nuid": "ce5abd21-46da-46cc-bfe4-d14d57157cfc",
     "showTitle": false,
     "tableResultSettingsMap": {},
     "title": ""
    }
   },
   "outputs": [],
   "source": [
    "%sql\n",
    "CREATE SCHEMA demo.delta_lake;"
   ]
  },
  {
   "cell_type": "code",
   "execution_count": 0,
   "metadata": {
    "application/vnd.databricks.v1+cell": {
     "cellMetadata": {
      "byteLimit": 2048000,
      "implicitDf": true,
      "rowLimit": 10000
     },
     "inputWidgets": {},
     "nuid": "e78bd7da-affe-4836-9bde-edc2f691f07b",
     "showTitle": false,
     "tableResultSettingsMap": {},
     "title": ""
    }
   },
   "outputs": [],
   "source": [
    "%sql\n",
    "DROP TABLE IF EXISTS demo.delta_lake.companies;\n",
    "CREATE TABLE demo.delta_lake.companies\n",
    "    (\n",
    "        company_name STRING,\n",
    "        founded_data DATE,\n",
    "        country STRING\n",
    "    );\n"
   ]
  },
  {
   "cell_type": "code",
   "execution_count": 0,
   "metadata": {
    "application/vnd.databricks.v1+cell": {
     "cellMetadata": {
      "byteLimit": 2048000,
      "implicitDf": true,
      "rowLimit": 10000
     },
     "inputWidgets": {},
     "nuid": "31170c96-dbdc-43c5-922b-f1bfc40bb2f5",
     "showTitle": false,
     "tableResultSettingsMap": {},
     "title": ""
    }
   },
   "outputs": [],
   "source": [
    "%sql \n",
    "-- Adding comment at table lable\n",
    "\n",
    "DROP TABLE IF EXISTS demo.delta_lake.companies;\n",
    "CREATE TABLE demo.delta_lake.companies\n",
    "    (\n",
    "        company_name STRING,\n",
    "        founded_data DATE,\n",
    "        country STRING\n",
    "    )\n",
    "    COMMENT 'This table contains information about some of the successful tech companies';\n"
   ]
  },
  {
   "cell_type": "code",
   "execution_count": 0,
   "metadata": {
    "application/vnd.databricks.v1+cell": {
     "cellMetadata": {
      "byteLimit": 2048000,
      "implicitDf": true,
      "rowLimit": 10000
     },
     "inputWidgets": {},
     "nuid": "67cb678c-eff9-428e-b7a7-fa53e0e204fa",
     "showTitle": false,
     "tableResultSettingsMap": {},
     "title": ""
    }
   },
   "outputs": [],
   "source": [
    "%sql \n",
    "-- Adding tblproperties at table lable\n",
    "\n",
    "DROP TABLE IF EXISTS demo.delta_lake.companies;\n",
    "CREATE TABLE demo.delta_lake.companies\n",
    "    (\n",
    "        company_name STRING,\n",
    "        founded_data DATE,\n",
    "        country STRING\n",
    "    )\n",
    "    COMMENT 'This table contains information about some of the successful tech companies'\n",
    "    TBLPROPERTIES ('sensitive' = 'true');"
   ]
  },
  {
   "cell_type": "code",
   "execution_count": 0,
   "metadata": {
    "application/vnd.databricks.v1+cell": {
     "cellMetadata": {
      "byteLimit": 2048000,
      "implicitDf": true,
      "rowLimit": 10000
     },
     "inputWidgets": {},
     "nuid": "ce1cc06d-71d1-4b56-852b-95e28236f81e",
     "showTitle": false,
     "tableResultSettingsMap": {},
     "title": ""
    }
   },
   "outputs": [],
   "source": [
    "%sql \n",
    "-- Adding tblproperties at table lable\n",
    "\n",
    "DROP TABLE IF EXISTS demo.delta_lake.companies;\n",
    "CREATE TABLE demo.delta_lake.companies\n",
    "    (\n",
    "        company_name STRING,\n",
    "        founded_data DATE,\n",
    "        country STRING\n",
    "    )\n",
    "    COMMENT 'This table contains information about some of the successful tech companies'\n",
    "    TBLPROPERTIES ('sensitive' = 'true', 'delta.enableDeletionVectors' = 'false');"
   ]
  },
  {
   "cell_type": "code",
   "execution_count": 0,
   "metadata": {
    "application/vnd.databricks.v1+cell": {
     "cellMetadata": {
      "byteLimit": 2048000,
      "implicitDf": true,
      "rowLimit": 10000
     },
     "inputWidgets": {},
     "nuid": "2cadbe44-d386-4ed2-8600-5e7a6f7d4ac4",
     "showTitle": false,
     "tableResultSettingsMap": {},
     "title": ""
    }
   },
   "outputs": [],
   "source": [
    "%sql\n",
    "DESCRIBE EXTENDED demo.delta_lake.companies;"
   ]
  },
  {
   "cell_type": "code",
   "execution_count": 0,
   "metadata": {
    "application/vnd.databricks.v1+cell": {
     "cellMetadata": {
      "byteLimit": 2048000,
      "implicitDf": true,
      "rowLimit": 10000
     },
     "inputWidgets": {},
     "nuid": "3523b2b5-854d-42e9-9a8a-d2426a0e8bf3",
     "showTitle": false,
     "tableResultSettingsMap": {},
     "title": ""
    }
   },
   "outputs": [],
   "source": [
    "%sql\n",
    "-- adding column lable properties in delta tables\n",
    "\n",
    "DROP TABLE IF EXISTS demo.delta_lake.companies;\n",
    "\n",
    "CREATE TABLE demo.delta_lake.companies\n",
    "    (\n",
    "        company_name STRING NOT NULL COMMENT 'This is the name of the company',\n",
    "        founded_data DATE COMMENT 'This is the date when the company was founded',\n",
    "        country STRING COMMENT 'This is the country where the company is located'\n",
    "    )\n",
    "    COMMENT 'This table contains information about some of the successful tech companies'\n",
    "    TBLPROPERTIES ('sensitive' = 'true', 'delta.enableDeletionVectors' = 'false');"
   ]
  },
  {
   "cell_type": "code",
   "execution_count": 0,
   "metadata": {
    "application/vnd.databricks.v1+cell": {
     "cellMetadata": {
      "byteLimit": 2048000,
      "implicitDf": true,
      "rowLimit": 10000
     },
     "inputWidgets": {},
     "nuid": "ca5c8d50-e678-4285-a1f9-485058b2230e",
     "showTitle": false,
     "tableResultSettingsMap": {},
     "title": ""
    }
   },
   "outputs": [],
   "source": [
    "%sql\n",
    "\n",
    "-- Generated Identity columns in delta tables\n",
    "\n",
    "DROP TABLE IF EXISTS demo.delta_lake.companies;\n",
    "\n",
    "CREATE TABLE demo.delta_lake.companies\n",
    "    (company_id BIGINT NOT NULL GENERATED ALWAYS AS IDENTITY (START WITH 1 INCREMENT BY 1),\n",
    "    company_name STRING NOT NULL,\n",
    "    founded_date DATE COMMENT 'The date company was founded.',\n",
    "    country STRING\n",
    "    )\n",
    "    COMMENT 'This table contains information about some of the successful tach companies'\n",
    "    TBLPROPERTIES ('sensitive' = 'true', 'delta.enableDeletionVectors' = 'false');"
   ]
  },
  {
   "cell_type": "code",
   "execution_count": 0,
   "metadata": {
    "application/vnd.databricks.v1+cell": {
     "cellMetadata": {
      "byteLimit": 2048000,
      "implicitDf": true,
      "rowLimit": 10000
     },
     "inputWidgets": {},
     "nuid": "e9165e97-4f19-4820-9e2c-c9dee4ca3bfe",
     "showTitle": false,
     "tableResultSettingsMap": {},
     "title": ""
    }
   },
   "outputs": [],
   "source": [
    "%sql\n",
    "INSERT INTO demo.delta_lake.companies\n",
    "(company_name, founded_date, country)\n",
    "VALUES (\"Apple\", \"1976-04-01\",\"USA\"),\n",
    "        (\"Microsoft\", \"1975-04-04\", \"USA\"),\n",
    "        (\"Google\", \"1998-09-04\", \"USA\"),\n",
    "        (\"Amazon\", \"1994-07-05\", \"USA\");"
   ]
  },
  {
   "cell_type": "code",
   "execution_count": 0,
   "metadata": {
    "application/vnd.databricks.v1+cell": {
     "cellMetadata": {
      "byteLimit": 2048000,
      "implicitDf": true,
      "rowLimit": 10000
     },
     "inputWidgets": {},
     "nuid": "abb36b1c-9867-4c5f-957f-8083de3eb43a",
     "showTitle": false,
     "tableResultSettingsMap": {},
     "title": ""
    }
   },
   "outputs": [],
   "source": [
    "%sql\n",
    "\n",
    "-- Generated Identity column year in delta table\n",
    "\n",
    "DROP TABLE IF EXISTS demo.delta_lake.companies;\n",
    "\n",
    "CREATE TABLE demo.delta_lake.companies\n",
    "    (company_id BIGINT NOT NULL GENERATED ALWAYS AS IDENTITY (START WITH 1 INCREMENT BY 1),\n",
    "    company_name STRING NOT NULL,\n",
    "    founded_date DATE COMMENT 'The date company was founded.',\n",
    "    founded_year STRING GENERATED ALWAYS AS (CAST(year(founded_date) AS STRING)),\n",
    "    country STRING\n",
    "    )\n",
    "    COMMENT 'This table contains information about some of the successful tach companies'\n",
    "    TBLPROPERTIES ('sensitive' = 'true', 'delta.enableDeletionVectors' = 'false');"
   ]
  },
  {
   "cell_type": "code",
   "execution_count": 0,
   "metadata": {
    "application/vnd.databricks.v1+cell": {
     "cellMetadata": {
      "byteLimit": 2048000,
      "implicitDf": true,
      "rowLimit": 10000
     },
     "inputWidgets": {},
     "nuid": "9a16ba6e-a23b-4855-a2a2-977514ce779e",
     "showTitle": false,
     "tableResultSettingsMap": {},
     "title": ""
    }
   },
   "outputs": [],
   "source": [
    "%sql\n",
    "INSERT INTO demo.delta_lake.companies\n",
    "(company_name, founded_date, country)\n",
    "VALUES (\"Apple\", \"1976-04-01\",\"USA\"),\n",
    "        (\"Microsoft\", \"1975-04-04\", \"USA\"),\n",
    "        (\"Google\", \"1998-09-04\", \"USA\"),\n",
    "        (\"Amazon\", \"1994-07-05\", \"USA\");"
   ]
  },
  {
   "cell_type": "code",
   "execution_count": 0,
   "metadata": {
    "application/vnd.databricks.v1+cell": {
     "cellMetadata": {
      "byteLimit": 2048000,
      "implicitDf": true,
      "rowLimit": 10000
     },
     "inputWidgets": {},
     "nuid": "508fab1f-4a18-4f67-bc87-f5f5bcb94daa",
     "showTitle": false,
     "tableResultSettingsMap": {},
     "title": ""
    }
   },
   "outputs": [],
   "source": [
    "%sql\n",
    "SELECT * FROM demo.delta_lake.companies;"
   ]
  },
  {
   "cell_type": "code",
   "execution_count": 0,
   "metadata": {
    "application/vnd.databricks.v1+cell": {
     "cellMetadata": {},
     "inputWidgets": {},
     "nuid": "160ee212-3520-4171-8137-e7d1102fd721",
     "showTitle": false,
     "tableResultSettingsMap": {},
     "title": ""
    }
   },
   "outputs": [],
   "source": []
  }
 ],
 "metadata": {
  "application/vnd.databricks.v1+notebook": {
   "computePreferences": null,
   "dashboards": [],
   "environmentMetadata": {
    "base_environment": "",
    "environment_version": "2"
   },
   "inputWidgetPreferences": null,
   "language": "python",
   "notebookMetadata": {
    "mostRecentlyExecutedCommandWithImplicitDF": {
     "commandId": 4752880070619141,
     "dataframes": [
      "_sqldf"
     ]
    },
    "pythonIndentUnit": 4
   },
   "notebookName": "01. create table - table and colums properties",
   "widgets": {}
  },
  "language_info": {
   "name": "python"
  }
 },
 "nbformat": 4,
 "nbformat_minor": 0
}
