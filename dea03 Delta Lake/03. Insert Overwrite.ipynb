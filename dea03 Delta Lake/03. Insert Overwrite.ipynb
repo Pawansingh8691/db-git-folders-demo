{
 "cells": [
  {
   "cell_type": "markdown",
   "metadata": {
    "application/vnd.databricks.v1+cell": {
     "cellMetadata": {},
     "inputWidgets": {},
     "nuid": "698058b9-fb7e-474b-914a-78c150587f06",
     "showTitle": false,
     "tableResultSettingsMap": {},
     "title": ""
    }
   },
   "source": [
    "#####1. Insert overwrite use cases :-\n",
    "- this is used whenever we need to delete existing data from a table and write new data in the very same table.\n",
    "- It is for more performant than delete and insert."
   ]
  },
  {
   "cell_type": "code",
   "execution_count": 0,
   "metadata": {
    "application/vnd.databricks.v1+cell": {
     "cellMetadata": {
      "byteLimit": 2048000,
      "rowLimit": 10000
     },
     "inputWidgets": {},
     "nuid": "1852982a-f5ae-4128-a557-0bb841bb5ea6",
     "showTitle": false,
     "tableResultSettingsMap": {},
     "title": ""
    }
   },
   "outputs": [],
   "source": [
    "DROP TABLE IF EXISTS demo.delta_lake.gold_companies;\n",
    "\n",
    "CREATE TABLE IF NOT EXISTS demo.delta_lake.gold_companies\n",
    " (\n",
    "  company_name STRING,\n",
    "  founded_date DATE,\n",
    "  country STRING\n",
    " );\n",
    "\n",
    " INSERT INTO demo.delta_lake.gold_companies\n",
    " (company_name, founded_date, country)\n",
    " VALUES (\"Apple\", \"1976-04-01\", \"USA\"),\n",
    "        (\"Tencent\", \"1998-11-11\", \"China\");"
   ]
  },
  {
   "cell_type": "code",
   "execution_count": 0,
   "metadata": {
    "application/vnd.databricks.v1+cell": {
     "cellMetadata": {
      "byteLimit": 2048000,
      "rowLimit": 10000
     },
     "inputWidgets": {},
     "nuid": "186ea2ca-8493-460d-ac2a-fedd96c72bb8",
     "showTitle": false,
     "tableResultSettingsMap": {},
     "title": ""
    }
   },
   "outputs": [],
   "source": [
    "SELECT * FROM demo.delta_lake.gold_companies;"
   ]
  },
  {
   "cell_type": "code",
   "execution_count": 0,
   "metadata": {
    "application/vnd.databricks.v1+cell": {
     "cellMetadata": {
      "byteLimit": 2048000,
      "rowLimit": 10000
     },
     "inputWidgets": {},
     "nuid": "7b5581f3-c324-4917-bfe5-a66dc75c0e60",
     "showTitle": false,
     "tableResultSettingsMap": {},
     "title": ""
    }
   },
   "outputs": [],
   "source": [
    "DROP TABLE IF EXISTS demo.delta_lake.bronze_companies;\n",
    "\n",
    "CREATE TABLE IF NOT EXISTS demo.delta_lake.bronze_companies\n",
    "(company_name STRING,\n",
    "founded_date DATE,\n",
    "country STRING)\n",
    ";\n",
    "\n",
    "INSERT INTO demo.delta_lake.bronze_companies\n",
    "(company_name, founded_date, country)\n",
    "VALUES (\"Apple\", \"1976-04-01\", \"USA\"),\n",
    "       (\"Microsoft\", \"1975-04-04\", \"USA\"),\n",
    "       (\"Google\", \"1998-09-04\", \"USA\"),\n",
    "       (\"Amazon\", \"1994-07-05\", \"USA\"),\n",
    "       (\"Tencent\", \"1998-11-11\", \"China\");"
   ]
  },
  {
   "cell_type": "code",
   "execution_count": 0,
   "metadata": {
    "application/vnd.databricks.v1+cell": {
     "cellMetadata": {
      "byteLimit": 2048000,
      "rowLimit": 10000
     },
     "inputWidgets": {},
     "nuid": "44617ff5-46ec-49bb-a1cc-09f0ab8b20fd",
     "showTitle": false,
     "tableResultSettingsMap": {},
     "title": ""
    }
   },
   "outputs": [],
   "source": [
    "SELECT * FROM demo.delta_lake.bronze_companies;"
   ]
  },
  {
   "cell_type": "code",
   "execution_count": 0,
   "metadata": {
    "application/vnd.databricks.v1+cell": {
     "cellMetadata": {
      "byteLimit": 2048000,
      "rowLimit": 10000
     },
     "inputWidgets": {},
     "nuid": "1f2cfcc7-43c4-4c98-bb72-d0d6800eb19d",
     "showTitle": false,
     "tableResultSettingsMap": {},
     "title": ""
    }
   },
   "outputs": [],
   "source": [
    "INSERT OVERWRITE demo.delta_lake.gold_companies\n",
    "SELECT *\n",
    "  FROM demo.delta_lake.bronze_companies;"
   ]
  },
  {
   "cell_type": "code",
   "execution_count": 0,
   "metadata": {
    "application/vnd.databricks.v1+cell": {
     "cellMetadata": {
      "byteLimit": 2048000,
      "rowLimit": 10000
     },
     "inputWidgets": {},
     "nuid": "9c80e946-dfd7-4898-bd47-c33b3c202b0d",
     "showTitle": false,
     "tableResultSettingsMap": {},
     "title": ""
    }
   },
   "outputs": [],
   "source": [
    "DESCRIBE EXTENDED demo.delta_lake.gold_companies;"
   ]
  },
  {
   "cell_type": "code",
   "execution_count": 0,
   "metadata": {
    "application/vnd.databricks.v1+cell": {
     "cellMetadata": {
      "byteLimit": 2048000,
      "rowLimit": 10000
     },
     "inputWidgets": {},
     "nuid": "235c1d4f-4f43-4323-ad5c-b7d0510af454",
     "showTitle": false,
     "tableResultSettingsMap": {},
     "title": ""
    }
   },
   "outputs": [],
   "source": [
    "DESCRIBE HISTORY demo.delta_lake.gold_companies;"
   ]
  },
  {
   "cell_type": "markdown",
   "metadata": {
    "application/vnd.databricks.v1+cell": {
     "cellMetadata": {},
     "inputWidgets": {},
     "nuid": "eee6cc75-d4af-451e-bd18-7d27d26702f9",
     "showTitle": false,
     "tableResultSettingsMap": {},
     "title": ""
    }
   },
   "source": [
    "#####2. Replace all data from a specific partition"
   ]
  },
  {
   "cell_type": "code",
   "execution_count": 0,
   "metadata": {
    "application/vnd.databricks.v1+cell": {
     "cellMetadata": {
      "byteLimit": 2048000,
      "rowLimit": 10000
     },
     "inputWidgets": {},
     "nuid": "e857927f-ac0a-4262-9bfa-64fcb766590b",
     "showTitle": false,
     "tableResultSettingsMap": {},
     "title": ""
    }
   },
   "outputs": [],
   "source": [
    "DROP TABLE IF EXISTS demo.delta_lake.gold_companies_partitioned;\n",
    "\n",
    "CREATE TABLE IF NOT EXISTS demo.delta_lake.gold_companies_partitioned\n",
    " (\n",
    "  company_name STRING,\n",
    "  founded_date DATE,\n",
    "  country STRING\n",
    " )\n",
    " PARTITIONED BY (country);\n",
    "\n",
    " INSERT INTO demo.delta_lake.gold_companies_partitioned\n",
    " (company_name, founded_date, country)\n",
    " VALUES (\"Apple\", \"1976-04-01\", \"USA\"),\n",
    "        (\"Tencent\", \"1998-11-11\", \"China\");"
   ]
  },
  {
   "cell_type": "code",
   "execution_count": 0,
   "metadata": {
    "application/vnd.databricks.v1+cell": {
     "cellMetadata": {
      "byteLimit": 2048000,
      "rowLimit": 10000
     },
     "inputWidgets": {},
     "nuid": "39ba0f90-d068-4582-91ec-81b4519baaf6",
     "showTitle": false,
     "tableResultSettingsMap": {},
     "title": ""
    }
   },
   "outputs": [],
   "source": [
    "DROP TABLE IF EXISTS demo.delta_lake.bronze_companies_usa;\n",
    "\n",
    "CREATE TABLE IF NOT EXISTS demo.delta_lake.bronze_companies_usa\n",
    "(company_name STRING,\n",
    "founded_date DATE,\n",
    "country STRING)\n",
    ";\n",
    "\n",
    "INSERT INTO demo.delta_lake.bronze_companies_usa\n",
    "(company_name, founded_date, country)\n",
    "VALUES (\"Apple\", \"1976-04-01\", \"USA\"),\n",
    "       (\"Microsoft\", \"1975-04-04\", \"USA\"),\n",
    "       (\"Google\", \"1998-09-04\", \"USA\"),\n",
    "       (\"Amazon\", \"1994-07-05\", \"USA\");"
   ]
  },
  {
   "cell_type": "code",
   "execution_count": 0,
   "metadata": {
    "application/vnd.databricks.v1+cell": {
     "cellMetadata": {
      "byteLimit": 2048000,
      "rowLimit": 10000
     },
     "inputWidgets": {},
     "nuid": "5320eef1-470f-4d00-9514-410c44401a92",
     "showTitle": false,
     "tableResultSettingsMap": {},
     "title": ""
    }
   },
   "outputs": [],
   "source": [
    "INSERT OVERWRITE demo.delta_lake.gold_companies_partitioned\n",
    "PARTITION (country = 'USA')\n",
    "SELECT company_name,\n",
    "        founded_date\n",
    "  FROM demo.delta_lake.bronze_companies_usa;"
   ]
  },
  {
   "cell_type": "code",
   "execution_count": 0,
   "metadata": {
    "application/vnd.databricks.v1+cell": {
     "cellMetadata": {},
     "inputWidgets": {},
     "nuid": "c29d8ce0-e69b-4738-b8af-0d22128aeac7",
     "showTitle": false,
     "tableResultSettingsMap": {},
     "title": ""
    }
   },
   "outputs": [],
   "source": []
  }
 ],
 "metadata": {
  "application/vnd.databricks.v1+notebook": {
   "computePreferences": null,
   "dashboards": [],
   "environmentMetadata": {
    "base_environment": "",
    "environment_version": "2"
   },
   "inputWidgetPreferences": null,
   "language": "sql",
   "notebookMetadata": {
    "pythonIndentUnit": 4
   },
   "notebookName": "03. Insert Overwrite",
   "widgets": {}
  },
  "language_info": {
   "name": "sql"
  }
 },
 "nbformat": 4,
 "nbformat_minor": 0
}
