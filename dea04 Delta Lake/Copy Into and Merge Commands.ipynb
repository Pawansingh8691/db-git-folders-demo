{
 "cells": [
  {
   "cell_type": "code",
   "execution_count": 0,
   "metadata": {
    "application/vnd.databricks.v1+cell": {
     "cellMetadata": {
      "byteLimit": 2048000,
      "rowLimit": 10000
     },
     "inputWidgets": {},
     "nuid": "4c378222-dd3e-4ea9-bc7b-2cd2717be5d9",
     "showTitle": false,
     "tableResultSettingsMap": {},
     "title": ""
    }
   },
   "outputs": [],
   "source": [
    "CREATE TABLE IF NOT EXISTS demo.delta_lake.raw_stock_prices;"
   ]
  },
  {
   "cell_type": "code",
   "execution_count": 0,
   "metadata": {
    "application/vnd.databricks.v1+cell": {
     "cellMetadata": {
      "byteLimit": 2048000,
      "rowLimit": 10000
     },
     "inputWidgets": {},
     "nuid": "7a2dcac5-2917-4fd6-af31-f31d8e93942d",
     "showTitle": false,
     "tableResultSettingsMap": {},
     "title": ""
    }
   },
   "outputs": [],
   "source": [
    "COPY INTO demo.delta_lake.raw_stock_prices\n",
    "FROM 'abfss://demo@deacourseextdldemo.dfs.core.windows.net/landing/stock_prices'\n",
    "FILEFORMAT = JSON\n",
    "FORMAT_OPTIONS('inferSchema' = 'true')\n",
    "COPY_OPTIONS('mergeSchema' = 'true');"
   ]
  },
  {
   "cell_type": "code",
   "execution_count": 0,
   "metadata": {
    "application/vnd.databricks.v1+cell": {
     "cellMetadata": {
      "byteLimit": 2048000,
      "rowLimit": 10000
     },
     "inputWidgets": {},
     "nuid": "3dd02fc5-defd-4c11-90b1-55c54aeb5d19",
     "showTitle": false,
     "tableResultSettingsMap": {},
     "title": ""
    }
   },
   "outputs": [],
   "source": [
    "SELECT * FROM demo.delta_lake.raw_stock_prices;"
   ]
  },
  {
   "cell_type": "markdown",
   "metadata": {
    "application/vnd.databricks.v1+cell": {
     "cellMetadata": {},
     "inputWidgets": {},
     "nuid": "a60e4da8-5562-44ae-b9f5-1367ee6e4fcc",
     "showTitle": false,
     "tableResultSettingsMap": {},
     "title": ""
    }
   },
   "source": [
    "#### Merge Command in Databricks"
   ]
  },
  {
   "cell_type": "code",
   "execution_count": 0,
   "metadata": {
    "application/vnd.databricks.v1+cell": {
     "cellMetadata": {
      "byteLimit": 2048000,
      "rowLimit": 10000
     },
     "inputWidgets": {},
     "nuid": "b0f2cd80-8db8-4091-98b7-8ed2ba97b91d",
     "showTitle": false,
     "tableResultSettingsMap": {},
     "title": ""
    }
   },
   "outputs": [],
   "source": [
    "CREATE TABLE IF NOT EXISTS demo.delta_lake.raw_stock_prices\n",
    "(\n",
    "  stock_id STRING,\n",
    "  price DOUBLE,\n",
    "  trading_date DATE\n",
    ");"
   ]
  },
  {
   "cell_type": "code",
   "execution_count": 0,
   "metadata": {
    "application/vnd.databricks.v1+cell": {
     "cellMetadata": {
      "byteLimit": 2048000,
      "rowLimit": 10000
     },
     "inputWidgets": {},
     "nuid": "0ff37902-ca97-4dba-9580-8ccf68bd9079",
     "showTitle": false,
     "tableResultSettingsMap": {},
     "title": ""
    }
   },
   "outputs": [],
   "source": [
    "SELECT * FROM demo.delta_lake.raw_stock_prices;"
   ]
  },
  {
   "cell_type": "code",
   "execution_count": 0,
   "metadata": {
    "application/vnd.databricks.v1+cell": {
     "cellMetadata": {
      "byteLimit": 2048000,
      "rowLimit": 10000
     },
     "inputWidgets": {},
     "nuid": "2b07ca9a-5aee-4f1d-9f76-d5faca5c4634",
     "showTitle": false,
     "tableResultSettingsMap": {},
     "title": ""
    }
   },
   "outputs": [],
   "source": [
    "DROP TABLE IF EXISTS demo.delta_lake.stock_prices;\n",
    "CREATE TABLE IF NOT EXISTS demo.delta_lake.stock_prices\n",
    "(\n",
    "  stock_id STRING,\n",
    "  price DOUBLE,\n",
    "  trading_date DATE\n",
    ");"
   ]
  },
  {
   "cell_type": "code",
   "execution_count": 0,
   "metadata": {
    "application/vnd.databricks.v1+cell": {
     "cellMetadata": {
      "byteLimit": 2048000,
      "rowLimit": 10000
     },
     "inputWidgets": {},
     "nuid": "c33af86d-4e0e-4fe0-bbb0-80fe9b53fb39",
     "showTitle": false,
     "tableResultSettingsMap": {},
     "title": ""
    }
   },
   "outputs": [],
   "source": [
    "WITH max_stock AS (\n",
    "  SELECT stock_id, price, trading_date, status,\n",
    "  ROW_NUMBER() OVER(PARTITION BY stock_id ORDER BY trading_date DESC) AS stoCk_rank\n",
    "  FROM demo.delta_lake.raw_stock_prices)\n",
    "SELECT stock_id, price, trading_date, status FROM max_stock WHERE stock_rank = 1"
   ]
  },
  {
   "cell_type": "code",
   "execution_count": 0,
   "metadata": {
    "application/vnd.databricks.v1+cell": {
     "cellMetadata": {
      "byteLimit": 2048000,
      "rowLimit": 10000
     },
     "inputWidgets": {},
     "nuid": "53322f9e-dd48-4b73-a0aa-ac37ed814902",
     "showTitle": false,
     "tableResultSettingsMap": {},
     "title": ""
    }
   },
   "outputs": [],
   "source": [
    "MERGE INTO demo.delta_lake.stock_prices as target\n",
    "USING (WITH max_stock AS (\n",
    "  SELECT stock_id, price, trading_date, status,\n",
    "  ROW_NUMBER() OVER(PARTITION BY stock_id ORDER BY trading_date DESC) AS stoCk_rank\n",
    "  FROM demo.delta_lake.raw_stock_prices)\n",
    "SELECT stock_id, price, trading_date, status FROM max_stock WHERE stock_rank = 1) as source\n",
    "  ON target.stock_id = source.stock_id\n",
    "WHEN MATCHED AND source.status = 'ACTIVE' THEN\n",
    "UPDATE SET target.price = source.price, target.trading_date = source.trading_date\n",
    "WHEN MATCHED AND source.status = 'DELISTED' THEN \n",
    "DELETE\n",
    "WHEN NOT MATCHED AND source.status = 'ACTIVE' THEN\n",
    "INSERT (stock_id, price, trading_date)\n",
    "  VALUES(source.stock_id, source.price, source.trading_date);"
   ]
  },
  {
   "cell_type": "code",
   "execution_count": 0,
   "metadata": {
    "application/vnd.databricks.v1+cell": {
     "cellMetadata": {
      "byteLimit": 2048000,
      "rowLimit": 10000
     },
     "inputWidgets": {},
     "nuid": "461d2ed7-5ebf-4b14-ac15-f1d08f7e5ea7",
     "showTitle": false,
     "tableResultSettingsMap": {},
     "title": ""
    }
   },
   "outputs": [],
   "source": [
    "SELECT * FROM demo.delta_lake.stock_prices;"
   ]
  },
  {
   "cell_type": "code",
   "execution_count": 0,
   "metadata": {
    "application/vnd.databricks.v1+cell": {
     "cellMetadata": {},
     "inputWidgets": {},
     "nuid": "bb37ca32-6592-44df-8cdd-fe3a87d0a9d7",
     "showTitle": false,
     "tableResultSettingsMap": {},
     "title": ""
    }
   },
   "outputs": [],
   "source": []
  }
 ],
 "metadata": {
  "application/vnd.databricks.v1+notebook": {
   "computePreferences": null,
   "dashboards": [],
   "environmentMetadata": {
    "base_environment": "",
    "environment_version": "2"
   },
   "inputWidgetPreferences": null,
   "language": "sql",
   "notebookMetadata": {
    "pythonIndentUnit": 4
   },
   "notebookName": "Copy Into and Merge Commands",
   "widgets": {}
  },
  "language_info": {
   "name": "sql"
  }
 },
 "nbformat": 4,
 "nbformat_minor": 0
}
