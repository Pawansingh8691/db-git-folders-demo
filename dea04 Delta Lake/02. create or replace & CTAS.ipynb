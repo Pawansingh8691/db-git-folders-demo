{
 "cells": [
  {
   "cell_type": "markdown",
   "metadata": {
    "application/vnd.databricks.v1+cell": {
     "cellMetadata": {},
     "inputWidgets": {},
     "nuid": "6bc78a6c-6db8-459a-b362-3edc7c23a824",
     "showTitle": false,
     "tableResultSettingsMap": {},
     "title": ""
    }
   },
   "source": [
    "#####1. difference between create or replace and drop statement :- \n",
    "- basically when we use create or replace then we delete existing table and create a new table in place of that. it does not delete history for previous table.\n",
    "- but when we use drop table statement we delete data as well as history (versioning) for previous table."
   ]
  },
  {
   "cell_type": "code",
   "execution_count": 0,
   "metadata": {
    "application/vnd.databricks.v1+cell": {
     "cellMetadata": {
      "byteLimit": 2048000,
      "implicitDf": true,
      "rowLimit": 10000
     },
     "inputWidgets": {},
     "nuid": "c74ace9e-7bcc-489b-a6f6-9517730ac04c",
     "showTitle": false,
     "tableResultSettingsMap": {},
     "title": ""
    }
   },
   "outputs": [],
   "source": [
    "%sql\n",
    "DROP TABLE IF EXISTS demo.delta_lake.companies;\n",
    "\n",
    "CREATE TABLE demo.delta_lake.companies\n",
    " (company_id BIGINT NOT NULL GENERATED ALWAYS AS IDENTITY (START WITH 1 INCREMENT BY 1),\n",
    " company_name STRING NOT NULL,\n",
    " founded_date DATE NOT NULL,\n",
    " country STRING NOT NULL\n",
    " );\n",
    "\n",
    " INSERT INTO demo.delta_lake.companies\n",
    "  (company_name, founded_date, country)\n",
    "  VALUES (\"Apple\", \"1976-04-01\",\"USA\"),\n",
    "        (\"Microsoft\", \"1975-04-04\", \"USA\"),\n",
    "        (\"Google\", \"1998-09-04\", \"USA\"),\n",
    "        (\"Amazon\", \"1994-07-05\", \"USA\");"
   ]
  },
  {
   "cell_type": "code",
   "execution_count": 0,
   "metadata": {
    "application/vnd.databricks.v1+cell": {
     "cellMetadata": {
      "byteLimit": 2048000,
      "implicitDf": true,
      "rowLimit": 10000
     },
     "inputWidgets": {},
     "nuid": "ba2d5b1a-9e6c-4493-86f6-29c204638e95",
     "showTitle": false,
     "tableResultSettingsMap": {},
     "title": ""
    }
   },
   "outputs": [],
   "source": [
    "%sql\n",
    "DESCRIBE HISTORY demo.delta_lake.companies;"
   ]
  },
  {
   "cell_type": "code",
   "execution_count": 0,
   "metadata": {
    "application/vnd.databricks.v1+cell": {
     "cellMetadata": {
      "byteLimit": 2048000,
      "implicitDf": true,
      "rowLimit": 10000
     },
     "inputWidgets": {},
     "nuid": "2592c2ae-9e97-44a6-8a24-c3c1b571c561",
     "showTitle": false,
     "tableResultSettingsMap": {},
     "title": ""
    }
   },
   "outputs": [],
   "source": [
    "%sql\n",
    "\n",
    "-- when we drop and create table again we loose history for this table\n",
    "\n",
    "DROP TABLE IF EXISTS demo.delta_lake.companies;\n",
    "\n",
    "CREATE TABLE demo.delta_lake.companies\n",
    " (company_id BIGINT NOT NULL GENERATED ALWAYS AS IDENTITY (START WITH 1 INCREMENT BY 1),\n",
    " company_name STRING NOT NULL,\n",
    " founded_date DATE NOT NULL,\n",
    " country STRING NOT NULL\n",
    " );\n",
    "\n",
    " INSERT INTO demo.delta_lake.companies\n",
    "  (company_name, founded_date, country)\n",
    "  VALUES (\"Apple\", \"1976-04-01\",\"USA\"),\n",
    "        (\"Microsoft\", \"1975-04-04\", \"USA\"),\n",
    "        (\"Google\", \"1998-09-04\", \"USA\"),\n",
    "        (\"Amazon\", \"1994-07-05\", \"USA\");"
   ]
  },
  {
   "cell_type": "code",
   "execution_count": 0,
   "metadata": {
    "application/vnd.databricks.v1+cell": {
     "cellMetadata": {
      "byteLimit": 2048000,
      "implicitDf": true,
      "rowLimit": 10000
     },
     "inputWidgets": {},
     "nuid": "80e9ed5b-fb63-40b4-8f4f-ff253441a23a",
     "showTitle": false,
     "tableResultSettingsMap": {},
     "title": ""
    }
   },
   "outputs": [],
   "source": [
    "%sql\n",
    "\n",
    "DESCRIBE HISTORY demo.delta_lake.companies;"
   ]
  },
  {
   "cell_type": "code",
   "execution_count": 0,
   "metadata": {
    "application/vnd.databricks.v1+cell": {
     "cellMetadata": {
      "byteLimit": 2048000,
      "implicitDf": true,
      "rowLimit": 10000
     },
     "inputWidgets": {},
     "nuid": "19a96939-de4b-4f40-a469-1498b7fb2ce5",
     "showTitle": false,
     "tableResultSettingsMap": {},
     "title": ""
    }
   },
   "outputs": [],
   "source": [
    "%sql\n",
    "\n",
    "-- but when we use create or replace statement we don't loose history for existing table\n",
    "\n",
    "CREATE OR REPLACE TABLE demo.delta_lake.companies\n",
    "(company_id BIGINT NOT NULL GENERATED ALWAYS AS IDENTITY (START WITH 1 INCREMENT BY 1),\n",
    " company_name STRING NOT NULL,\n",
    " founded_date DATE NOT NULL,\n",
    " country STRING NOT NULL\n",
    " );\n",
    "\n",
    " INSERT INTO demo.delta_lake.companies\n",
    "  (company_name, founded_date, country)\n",
    "  VALUES (\"Apple\", \"1976-04-01\",\"USA\"),\n",
    "        (\"Microsoft\", \"1975-04-04\", \"USA\"),\n",
    "        (\"Google\", \"1998-09-04\", \"USA\"),\n",
    "        (\"Amazon\", \"1994-07-05\", \"USA\"),\n",
    "        (\"Tencent\", \"2000-04-01\", \"China\");\n"
   ]
  },
  {
   "cell_type": "code",
   "execution_count": 0,
   "metadata": {
    "application/vnd.databricks.v1+cell": {
     "cellMetadata": {
      "byteLimit": 2048000,
      "implicitDf": true,
      "rowLimit": 10000
     },
     "inputWidgets": {},
     "nuid": "ef7041c6-c236-428f-a27d-648a4e744ed3",
     "showTitle": false,
     "tableResultSettingsMap": {},
     "title": ""
    }
   },
   "outputs": [],
   "source": [
    "%sql\n",
    "DESCRIBE HISTORY demo.delta_lake.companies;"
   ]
  },
  {
   "cell_type": "markdown",
   "metadata": {
    "application/vnd.databricks.v1+cell": {
     "cellMetadata": {},
     "inputWidgets": {},
     "nuid": "c05ecbb4-4fcc-4dcb-b1ca-41542037f7b4",
     "showTitle": false,
     "tableResultSettingsMap": {},
     "title": ""
    }
   },
   "source": [
    "#####2. CETAS Statement"
   ]
  },
  {
   "cell_type": "code",
   "execution_count": 0,
   "metadata": {
    "application/vnd.databricks.v1+cell": {
     "cellMetadata": {},
     "inputWidgets": {},
     "nuid": "70879dd4-83c6-4e4c-9446-c89034cd69cc",
     "showTitle": false,
     "tableResultSettingsMap": {},
     "title": ""
    }
   },
   "outputs": [],
   "source": [
    "# We create table using result from an sql query.\n",
    "# We don't have flexibility to define schema in this.\n",
    "# We can cast columns to get required data type but don't have flexibility to define othere schemas such as NOT NULL, GENERATED ALWAYS etc. "
   ]
  },
  {
   "cell_type": "code",
   "execution_count": 0,
   "metadata": {
    "application/vnd.databricks.v1+cell": {
     "cellMetadata": {
      "byteLimit": 2048000,
      "implicitDf": true,
      "rowLimit": 10000
     },
     "inputWidgets": {},
     "nuid": "1b006aac-cabe-43e5-ae9f-5015fe866694",
     "showTitle": false,
     "tableResultSettingsMap": {},
     "title": ""
    }
   },
   "outputs": [],
   "source": [
    "%sql\n",
    "CREATE TABLE demo.delta_lake.companies_china\n",
    "AS\n",
    "SELECT * FROM demo.delta_lake.companies\n",
    "WHERE country = 'China';"
   ]
  },
  {
   "cell_type": "code",
   "execution_count": 0,
   "metadata": {
    "application/vnd.databricks.v1+cell": {
     "cellMetadata": {
      "byteLimit": 2048000,
      "implicitDf": true,
      "rowLimit": 10000
     },
     "inputWidgets": {},
     "nuid": "d069cefe-b965-4175-b393-cd37a3166ba1",
     "showTitle": false,
     "tableResultSettingsMap": {},
     "title": ""
    }
   },
   "outputs": [],
   "source": [
    "%sql\n",
    "-- later on we can modify table once created using CTAS\n",
    "\n",
    "ALTER TABLE demo.delta_lake.companies_china\n",
    "ALTER COLUMN founded_date COMMENT 'This is the date company was founded.'"
   ]
  },
  {
   "cell_type": "code",
   "execution_count": 0,
   "metadata": {
    "application/vnd.databricks.v1+cell": {
     "cellMetadata": {
      "byteLimit": 2048000,
      "implicitDf": true,
      "rowLimit": 10000
     },
     "inputWidgets": {},
     "nuid": "3abc49c6-18a3-44bc-9869-acf2c5acabcb",
     "showTitle": false,
     "tableResultSettingsMap": {},
     "title": ""
    }
   },
   "outputs": [],
   "source": [
    "%sql\n",
    "DESCRIBE EXTENDED demo.delta_lake.companies_china;"
   ]
  },
  {
   "cell_type": "code",
   "execution_count": 0,
   "metadata": {
    "application/vnd.databricks.v1+cell": {
     "cellMetadata": {},
     "inputWidgets": {},
     "nuid": "974d7b49-c97f-429c-88d8-6cf4efbe51ab",
     "showTitle": false,
     "tableResultSettingsMap": {},
     "title": ""
    }
   },
   "outputs": [],
   "source": []
  }
 ],
 "metadata": {
  "application/vnd.databricks.v1+notebook": {
   "computePreferences": null,
   "dashboards": [],
   "environmentMetadata": {
    "base_environment": "",
    "environment_version": "2"
   },
   "inputWidgetPreferences": null,
   "language": "python",
   "notebookMetadata": {
    "mostRecentlyExecutedCommandWithImplicitDF": {
     "commandId": 7189726729011033,
     "dataframes": [
      "_sqldf"
     ]
    },
    "pythonIndentUnit": 4
   },
   "notebookName": "02. create or replace & CTAS",
   "widgets": {}
  },
  "language_info": {
   "name": "python"
  }
 },
 "nbformat": 4,
 "nbformat_minor": 0
}
