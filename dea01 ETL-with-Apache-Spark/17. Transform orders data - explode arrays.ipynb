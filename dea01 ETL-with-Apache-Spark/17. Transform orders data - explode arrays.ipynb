{
 "cells": [
  {
   "cell_type": "markdown",
   "metadata": {
    "application/vnd.databricks.v1+cell": {
     "cellMetadata": {},
     "inputWidgets": {},
     "nuid": "e4f5bbbd-a729-4fe9-9ad1-37ff422a3b8b",
     "showTitle": false,
     "tableResultSettingsMap": {},
     "title": ""
    }
   },
   "source": [
    "#### Reading orders data from silver table"
   ]
  },
  {
   "cell_type": "code",
   "execution_count": 0,
   "metadata": {
    "application/vnd.databricks.v1+cell": {
     "cellMetadata": {
      "byteLimit": 2048000,
      "implicitDf": true,
      "rowLimit": 10000
     },
     "inputWidgets": {},
     "nuid": "b6dc817a-de56-4d8a-bdc7-f3de64d63bb3",
     "showTitle": false,
     "tableResultSettingsMap": {},
     "title": ""
    }
   },
   "outputs": [],
   "source": [
    "%sql\n",
    "SELECT * FROM gizmobox.silver.orders_json;"
   ]
  },
  {
   "cell_type": "markdown",
   "metadata": {
    "application/vnd.databricks.v1+cell": {
     "cellMetadata": {},
     "inputWidgets": {},
     "nuid": "35d8f8e9-e969-4fd4-9345-8206227b957f",
     "showTitle": false,
     "tableResultSettingsMap": {},
     "title": ""
    }
   },
   "source": [
    "##### 1. Access elements from json object"
   ]
  },
  {
   "cell_type": "code",
   "execution_count": 0,
   "metadata": {
    "application/vnd.databricks.v1+cell": {
     "cellMetadata": {
      "byteLimit": 2048000,
      "implicitDf": true,
      "rowLimit": 10000
     },
     "inputWidgets": {},
     "nuid": "547f460e-b4da-4a9b-926e-d9034629c520",
     "showTitle": false,
     "tableResultSettingsMap": {},
     "title": ""
    }
   },
   "outputs": [],
   "source": [
    "%sql\n",
    "SELECT json_value.order_id,\n",
    "        json_value.order_status,\n",
    "        json_value.payment_method,\n",
    "        json_value.total_amount,\n",
    "        json_value.transaction_timestamp,\n",
    "        json_value.customer_id,\n",
    "        json_value.items\n",
    "FROM gizmobox.silver.orders_json\n",
    "ORDER by json_value.order_id"
   ]
  },
  {
   "cell_type": "code",
   "execution_count": 0,
   "metadata": {
    "application/vnd.databricks.v1+cell": {
     "cellMetadata": {
      "byteLimit": 2048000,
      "implicitDf": true,
      "rowLimit": 10000
     },
     "inputWidgets": {},
     "nuid": "17ebe8f9-fa3d-4566-bc7c-1b5236bdc632",
     "showTitle": false,
     "tableResultSettingsMap": {},
     "title": ""
    }
   },
   "outputs": [],
   "source": [
    "%sql\n",
    "SELECT \n",
    "      json_value.order_id,\n",
    "      json_value.order_status,\n",
    "      json_value.payment_method,\n",
    "      json_value.total_amount,\n",
    "      json_value.transaction_timestamp,\n",
    "      json_value.customer_id,\n",
    "      array_distinct(json_value.items) as items\n",
    "FROM gizmobox.silver.orders_json\n",
    "ORDER BY json_value.order_id"
   ]
  },
  {
   "cell_type": "markdown",
   "metadata": {
    "application/vnd.databricks.v1+cell": {
     "cellMetadata": {},
     "inputWidgets": {},
     "nuid": "7872e7bf-a1f0-4c95-8657-ac419f803a99",
     "showTitle": false,
     "tableResultSettingsMap": {},
     "title": ""
    }
   },
   "source": [
    "##### 3. Explore arrays to get data in required format"
   ]
  },
  {
   "cell_type": "code",
   "execution_count": 0,
   "metadata": {
    "application/vnd.databricks.v1+cell": {
     "cellMetadata": {
      "byteLimit": 2048000,
      "implicitDf": true,
      "rowLimit": 10000
     },
     "inputWidgets": {},
     "nuid": "f7a0a2ba-3f40-4d31-8912-ca9c3b7592db",
     "showTitle": false,
     "tableResultSettingsMap": {},
     "title": ""
    }
   },
   "outputs": [],
   "source": [
    "%sql\n",
    "SELECT \n",
    "      json_value.order_id,\n",
    "      json_value.order_status,\n",
    "      json_value.payment_method,\n",
    "      json_value.total_amount,\n",
    "      json_value.transaction_timestamp,\n",
    "      json_value.customer_id,\n",
    "      explode(array_distinct(json_value.items)) as item\n",
    "FROM gizmobox.silver.orders_json\n",
    "ORDER BY json_value.order_id"
   ]
  },
  {
   "cell_type": "code",
   "execution_count": 0,
   "metadata": {
    "application/vnd.databricks.v1+cell": {
     "cellMetadata": {
      "byteLimit": 2048000,
      "implicitDf": true,
      "rowLimit": 10000
     },
     "inputWidgets": {},
     "nuid": "30f569cf-05cf-42b2-82dd-f832575012e0",
     "showTitle": false,
     "tableResultSettingsMap": {},
     "title": ""
    }
   },
   "outputs": [],
   "source": [
    "%sql\n",
    "CREATE OR REPLACE TEMPORARY VIEW tv_orders_exploded\n",
    "AS\n",
    "SELECT \n",
    "      json_value.order_id,\n",
    "      json_value.order_status,\n",
    "      json_value.payment_method,\n",
    "      json_value.total_amount,\n",
    "      json_value.transaction_timestamp,\n",
    "      json_value.customer_id,\n",
    "      explode(array_distinct(json_value.items)) as item\n",
    "FROM gizmobox.silver.orders_json\n",
    "ORDER BY json_value.order_id"
   ]
  },
  {
   "cell_type": "code",
   "execution_count": 0,
   "metadata": {
    "application/vnd.databricks.v1+cell": {
     "cellMetadata": {
      "byteLimit": 2048000,
      "implicitDf": true,
      "rowLimit": 10000
     },
     "inputWidgets": {},
     "nuid": "4a590ea2-5a0e-49be-a312-fd17865590ae",
     "showTitle": false,
     "tableResultSettingsMap": {},
     "title": ""
    }
   },
   "outputs": [],
   "source": [
    "%sql\n",
    "SELECT * FROM tv_orders_exploded;"
   ]
  },
  {
   "cell_type": "code",
   "execution_count": 0,
   "metadata": {
    "application/vnd.databricks.v1+cell": {
     "cellMetadata": {
      "byteLimit": 2048000,
      "implicitDf": true,
      "rowLimit": 10000
     },
     "inputWidgets": {},
     "nuid": "ff375177-09f6-4cf7-9524-8c2e2128bb50",
     "showTitle": false,
     "tableResultSettingsMap": {},
     "title": ""
    }
   },
   "outputs": [],
   "source": [
    "%sql\n",
    "SELECT \n",
    "    order_id,\n",
    "    order_status,\n",
    "    payment_method,\n",
    "    total_amount,\n",
    "    transaction_timestamp,\n",
    "    customer_id,\n",
    "    item.item_id,\n",
    "    item.name,\n",
    "    item.price,\n",
    "    item.quantity,\n",
    "    item.category,\n",
    "    item.details.brand,\n",
    "    item.details.color\n",
    "FROM tv_orders_exploded;\n",
    "  "
   ]
  },
  {
   "cell_type": "markdown",
   "metadata": {
    "application/vnd.databricks.v1+cell": {
     "cellMetadata": {},
     "inputWidgets": {},
     "nuid": "692efd85-0932-4d6e-9387-695192cd46c9",
     "showTitle": false,
     "tableResultSettingsMap": {},
     "title": ""
    }
   },
   "source": [
    "##### 4. Write data to silver table"
   ]
  },
  {
   "cell_type": "code",
   "execution_count": 0,
   "metadata": {
    "application/vnd.databricks.v1+cell": {
     "cellMetadata": {
      "byteLimit": 2048000,
      "implicitDf": true,
      "rowLimit": 10000
     },
     "inputWidgets": {},
     "nuid": "f7d7961c-3091-4529-a751-12366a0584b8",
     "showTitle": false,
     "tableResultSettingsMap": {},
     "title": ""
    }
   },
   "outputs": [],
   "source": [
    "%sql\n",
    "CREATE OR REPLACE TABLE gizmobox.silver.orders\n",
    "AS\n",
    "SELECT \n",
    "    order_id,\n",
    "    order_status,\n",
    "    payment_method,\n",
    "    total_amount,\n",
    "    transaction_timestamp,\n",
    "    customer_id,\n",
    "    item.item_id,\n",
    "    item.name,\n",
    "    item.price,\n",
    "    item.quantity,\n",
    "    item.category,\n",
    "    item.details.brand,\n",
    "    item.details.color\n",
    "FROM tv_orders_exploded;\n",
    "  "
   ]
  },
  {
   "cell_type": "code",
   "execution_count": 0,
   "metadata": {
    "application/vnd.databricks.v1+cell": {
     "cellMetadata": {
      "byteLimit": 2048000,
      "implicitDf": true,
      "rowLimit": 10000
     },
     "inputWidgets": {},
     "nuid": "bd0fe1d5-1e6c-46c2-80d7-17e41b072432",
     "showTitle": false,
     "tableResultSettingsMap": {},
     "title": ""
    }
   },
   "outputs": [],
   "source": [
    "%sql\n",
    "SELECT * FROM \n",
    "gizmobox.silver.orders;"
   ]
  },
  {
   "cell_type": "code",
   "execution_count": 0,
   "metadata": {
    "application/vnd.databricks.v1+cell": {
     "cellMetadata": {},
     "inputWidgets": {},
     "nuid": "abb1389e-dee6-4697-a885-5ee96861af25",
     "showTitle": false,
     "tableResultSettingsMap": {},
     "title": ""
    }
   },
   "outputs": [],
   "source": []
  }
 ],
 "metadata": {
  "application/vnd.databricks.v1+notebook": {
   "computePreferences": null,
   "dashboards": [],
   "environmentMetadata": {
    "base_environment": "",
    "environment_version": "3"
   },
   "inputWidgetPreferences": null,
   "language": "python",
   "notebookMetadata": {
    "mostRecentlyExecutedCommandWithImplicitDF": {
     "commandId": 7096660445752658,
     "dataframes": [
      "_sqldf"
     ]
    },
    "pythonIndentUnit": 4
   },
   "notebookName": "17. Transform orders data - explode arrays",
   "widgets": {}
  },
  "language_info": {
   "name": "python"
  }
 },
 "nbformat": 4,
 "nbformat_minor": 0
}
