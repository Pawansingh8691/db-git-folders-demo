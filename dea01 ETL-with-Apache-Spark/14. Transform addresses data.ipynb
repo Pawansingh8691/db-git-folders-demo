{
 "cells": [
  {
   "cell_type": "markdown",
   "metadata": {
    "application/vnd.databricks.v1+cell": {
     "cellMetadata": {},
     "inputWidgets": {},
     "nuid": "d2e5b5b3-ef34-4669-9b89-4d0fb1f10d83",
     "showTitle": false,
     "tableResultSettingsMap": {},
     "title": ""
    }
   },
   "source": [
    "##### Read addresses data from addresses table"
   ]
  },
  {
   "cell_type": "code",
   "execution_count": 0,
   "metadata": {
    "application/vnd.databricks.v1+cell": {
     "cellMetadata": {
      "byteLimit": 2048000,
      "implicitDf": true,
      "rowLimit": 10000
     },
     "inputWidgets": {},
     "nuid": "290c2036-e703-4dcf-987c-7e018f74e0d1",
     "showTitle": false,
     "tableResultSettingsMap": {},
     "title": ""
    }
   },
   "outputs": [],
   "source": [
    "%sql\n",
    "SELECT * FROM gizmobox.bronze.v_addresses;"
   ]
  },
  {
   "cell_type": "markdown",
   "metadata": {
    "application/vnd.databricks.v1+cell": {
     "cellMetadata": {},
     "inputWidgets": {},
     "nuid": "ead13b54-bec4-4461-8ad0-5108d33e524e",
     "showTitle": false,
     "tableResultSettingsMap": {},
     "title": ""
    }
   },
   "source": [
    "##### 1. Create single records for each customer with both addresses such as billing and shipping."
   ]
  },
  {
   "cell_type": "code",
   "execution_count": 0,
   "metadata": {
    "application/vnd.databricks.v1+cell": {
     "cellMetadata": {
      "byteLimit": 2048000,
      "implicitDf": true,
      "rowLimit": 10000
     },
     "inputWidgets": {},
     "nuid": "08273261-d2b8-462a-882c-4edfc99a58b3",
     "showTitle": false,
     "tableResultSettingsMap": {},
     "title": ""
    }
   },
   "outputs": [],
   "source": [
    "%sql\n",
    "SELECT * FROM (\n",
    "  SELECT customer_id,\n",
    "        address_type,\n",
    "        address_line_1,\n",
    "        city,\n",
    "        state,\n",
    "        postcode\n",
    "        FROM\n",
    "        gizmobox.bronze.v_addresses)\n",
    "PIVOT (\n",
    "    MAX(address_line_1) as address_line_1,\n",
    "    MAX(city) as city,\n",
    "    MAX(state) as state,\n",
    "    MAX(postcode) as postcode\n",
    "FOR address_type in ('shipping', 'billing')\n",
    ");"
   ]
  },
  {
   "cell_type": "markdown",
   "metadata": {
    "application/vnd.databricks.v1+cell": {
     "cellMetadata": {},
     "inputWidgets": {},
     "nuid": "0a19d7c9-fddd-4af0-8fd8-bef2a0ea751f",
     "showTitle": false,
     "tableResultSettingsMap": {},
     "title": ""
    }
   },
   "source": [
    "##### 2. Write transformed data in silver table"
   ]
  },
  {
   "cell_type": "code",
   "execution_count": 0,
   "metadata": {
    "application/vnd.databricks.v1+cell": {
     "cellMetadata": {
      "byteLimit": 2048000,
      "implicitDf": true,
      "rowLimit": 10000
     },
     "inputWidgets": {},
     "nuid": "b0da2c24-cfb1-43b5-83c0-872fffcbd546",
     "showTitle": false,
     "tableResultSettingsMap": {},
     "title": ""
    }
   },
   "outputs": [],
   "source": [
    "%sql\n",
    "CREATE OR REPLACE TABLE gizmobox.silver.addresses\n",
    "AS\n",
    "SELECT * FROM (\n",
    "  SELECT customer_id,\n",
    "        address_type,\n",
    "        address_line_1,\n",
    "        city,\n",
    "        state,\n",
    "        postcode\n",
    "        FROM\n",
    "        gizmobox.bronze.v_addresses)\n",
    "PIVOT (\n",
    "    MAX(address_line_1) as address_line_1,\n",
    "    MAX(city) as city,\n",
    "    MAX(state) as state,\n",
    "    MAX(postcode) as postcode\n",
    "FOR address_type in ('shipping', 'billing')\n",
    ");"
   ]
  },
  {
   "cell_type": "code",
   "execution_count": 0,
   "metadata": {
    "application/vnd.databricks.v1+cell": {
     "cellMetadata": {
      "byteLimit": 2048000,
      "implicitDf": true,
      "rowLimit": 10000
     },
     "inputWidgets": {},
     "nuid": "bf542bba-b67b-4599-a402-d568c0575f80",
     "showTitle": false,
     "tableResultSettingsMap": {},
     "title": ""
    }
   },
   "outputs": [],
   "source": [
    "%sql\n",
    "SELECT * FROM gizmobox.silver.addresses;"
   ]
  },
  {
   "cell_type": "code",
   "execution_count": 0,
   "metadata": {
    "application/vnd.databricks.v1+cell": {
     "cellMetadata": {},
     "inputWidgets": {},
     "nuid": "47f36c2e-ba48-4f94-b469-47a9e973a424",
     "showTitle": false,
     "tableResultSettingsMap": {},
     "title": ""
    }
   },
   "outputs": [],
   "source": []
  }
 ],
 "metadata": {
  "application/vnd.databricks.v1+notebook": {
   "computePreferences": null,
   "dashboards": [],
   "environmentMetadata": {
    "base_environment": "",
    "environment_version": "3"
   },
   "inputWidgetPreferences": null,
   "language": "python",
   "notebookMetadata": {
    "mostRecentlyExecutedCommandWithImplicitDF": {
     "commandId": 7462485167552645,
     "dataframes": [
      "_sqldf"
     ]
    },
    "pythonIndentUnit": 4
   },
   "notebookName": "14. Transform addresses data",
   "widgets": {}
  },
  "language_info": {
   "name": "python"
  }
 },
 "nbformat": 4,
 "nbformat_minor": 0
}
