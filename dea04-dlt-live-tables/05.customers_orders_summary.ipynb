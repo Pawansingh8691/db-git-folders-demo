{
 "cells": [
  {
   "cell_type": "markdown",
   "metadata": {
    "application/vnd.databricks.v1+cell": {
     "cellMetadata": {},
     "inputWidgets": {},
     "nuid": "cd158f14-856c-498b-b46c-b863574908e5",
     "showTitle": false,
     "tableResultSettingsMap": {},
     "title": ""
    }
   },
   "source": [
    "#### Creating orders summary using materialized view in DLT."
   ]
  },
  {
   "cell_type": "code",
   "execution_count": 0,
   "metadata": {
    "application/vnd.databricks.v1+cell": {
     "cellMetadata": {},
     "inputWidgets": {},
     "nuid": "d7de9188-c38e-4690-b39d-912125bb8999",
     "showTitle": false,
     "tableResultSettingsMap": {},
     "title": ""
    }
   },
   "outputs": [],
   "source": [
    "CREATE OR REFRESH MATERIALIZED VIEW gold_customer_order_summary\n",
    "AS\n",
    "SELECT c.customer_id,\n",
    "        c.customer_name,\n",
    "        c.date_of_birth,\n",
    "        c.telephone,\n",
    "        c.email,\n",
    "        a.address_line_1,\n",
    "        a.city,\n",
    "        a.state,\n",
    "        a.postcode,\n",
    "        COUNT(DISTINCT o.order_id) AS total_orders,\n",
    "        SUM(o.item_quantity) AS toal_items_ordered,\n",
    "        SUM(o.item_price * o.item_quantity) AS total_order_amount\n",
    "FROM LIVE.silver_orders o  \n",
    "INNER JOIN LIVE.silver_customers c  ON c.customer_id = o.customer_id\n",
    "INNER JOIN LIVE.silver_addresses a ON a.customer_id = c.customer_id\n",
    "WHERE a.__END_AT IS NULL\n",
    "GROUP BY ALL;"
   ]
  }
 ],
 "metadata": {
  "application/vnd.databricks.v1+notebook": {
   "computePreferences": null,
   "dashboards": [],
   "environmentMetadata": {
    "base_environment": "",
    "environment_version": "2"
   },
   "inputWidgetPreferences": null,
   "language": "sql",
   "notebookMetadata": {},
   "notebookName": "05.customers_orders_summary",
   "widgets": {}
  },
  "language_info": {
   "name": "sql"
  }
 },
 "nbformat": 4,
 "nbformat_minor": 0
}
