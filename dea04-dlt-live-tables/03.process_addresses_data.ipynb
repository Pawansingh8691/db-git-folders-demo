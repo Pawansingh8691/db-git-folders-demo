{
 "cells": [
  {
   "cell_type": "markdown",
   "metadata": {
    "application/vnd.databricks.v1+cell": {
     "cellMetadata": {},
     "inputWidgets": {},
     "nuid": "5fe3a686-a515-4689-9f4b-ccaf9b085fc7",
     "showTitle": false,
     "tableResultSettingsMap": {},
     "title": ""
    }
   },
   "source": [
    "#### Process Addresses data from volume to bronze_schema"
   ]
  },
  {
   "cell_type": "code",
   "execution_count": 0,
   "metadata": {
    "application/vnd.databricks.v1+cell": {
     "cellMetadata": {
      "byteLimit": 2048000,
      "rowLimit": 10000
     },
     "inputWidgets": {},
     "nuid": "b1414b08-caa1-4a9c-9996-af435155eb56",
     "showTitle": false,
     "tableResultSettingsMap": {},
     "title": ""
    }
   },
   "outputs": [],
   "source": [
    "import dlt\n",
    "import pyspark.sql.functions as F"
   ]
  },
  {
   "cell_type": "markdown",
   "metadata": {
    "application/vnd.databricks.v1+cell": {
     "cellMetadata": {},
     "inputWidgets": {},
     "nuid": "5dfaf291-3208-412c-bb81-8dd76f85ba62",
     "showTitle": false,
     "tableResultSettingsMap": {},
     "title": ""
    }
   },
   "source": [
    "#####1. Ingest addresses data from data lakehouse to bronze_addresses table"
   ]
  },
  {
   "cell_type": "code",
   "execution_count": 0,
   "metadata": {
    "application/vnd.databricks.v1+cell": {
     "cellMetadata": {},
     "inputWidgets": {},
     "nuid": "7a602038-64d4-46c1-9ff9-dbdb85ca1154",
     "showTitle": false,
     "tableResultSettingsMap": {},
     "title": ""
    }
   },
   "outputs": [],
   "source": [
    "@dlt.table(\n",
    "    name = 'bronze_addresses',\n",
    "    table_properties = {'quality':'bronze'},\n",
    "    comment = 'Raw addresses data ingested from the source system'\n",
    ")\n",
    "\n",
    "def create_bronze_addresses():\n",
    "    return (\n",
    "        spark.readStream\n",
    "        .format('cloudFiles')\n",
    "        .option('cloudFiles.format', 'csv')\n",
    "        .option('cloudFiles.inferColumnTypes', 'true')\n",
    "        .load('/Volumes/circuitbox/landing/operational_data/addresses/')\n",
    "        .select(\n",
    "            '*',\n",
    "            F.col('_metadata.file_path').alias('input_file_path'),\n",
    "            F.current_timestamp().alias('ingest_timestamp')\n",
    "        )\n",
    "    )"
   ]
  },
  {
   "cell_type": "markdown",
   "metadata": {
    "application/vnd.databricks.v1+cell": {
     "cellMetadata": {},
     "inputWidgets": {},
     "nuid": "57875798-b1b4-4843-8047-77557241a754",
     "showTitle": false,
     "tableResultSettingsMap": {},
     "title": ""
    }
   },
   "source": [
    "#####2. Perform data quality checks and transform the data as required for silver_addresses_clean table"
   ]
  },
  {
   "cell_type": "code",
   "execution_count": 0,
   "metadata": {
    "application/vnd.databricks.v1+cell": {
     "cellMetadata": {},
     "inputWidgets": {},
     "nuid": "4ece19ec-a4c7-46f0-b7f9-0be2121587e5",
     "showTitle": false,
     "tableResultSettingsMap": {},
     "title": ""
    }
   },
   "outputs": [],
   "source": [
    "@dlt.table(\n",
    "    name = 'silver_addresses_clean',\n",
    "    table_properties = {'quality' : 'silver'},\n",
    "    comment = 'this is a cleanned addresses data with all expectations'\n",
    ")\n",
    "\n",
    "@dlt.expect_or_fail(\"valid_customer_id\", \"customer_id IS NOT NULL\")\n",
    "@dlt.expect_or_drop(\"valid_address\", \"address_line_1 IS NOT NULL\")\n",
    "@dlt.expect(\"valid_passcode\", \"LENGTH(postcode) = 5\")\n",
    "\n",
    "def create_silver_addresses_clean():\n",
    "    return (\n",
    "        spark.readStream.table(\"LIVE.bronze_addresses\")\n",
    "        .select(\n",
    "            \"customer_id\",\n",
    "            \"address_line_1\",\n",
    "            \"city\",\n",
    "            \"state\",\n",
    "            \"postcode\",\n",
    "            F.col(\"created_date\").cast(\"date\")\n",
    "        )\n",
    "    )"
   ]
  },
  {
   "cell_type": "markdown",
   "metadata": {
    "application/vnd.databricks.v1+cell": {
     "cellMetadata": {},
     "inputWidgets": {},
     "nuid": "7be822dc-68f8-4e05-be78-8228ffee91c5",
     "showTitle": false,
     "tableResultSettingsMap": {},
     "title": ""
    }
   },
   "source": [
    "#####3. Apply Changes API to perform SCD 2 on silver_addresses table"
   ]
  },
  {
   "cell_type": "code",
   "execution_count": 0,
   "metadata": {
    "application/vnd.databricks.v1+cell": {
     "cellMetadata": {},
     "inputWidgets": {},
     "nuid": "c543960f-d0df-4aa2-8240-bd18417658d0",
     "showTitle": false,
     "tableResultSettingsMap": {},
     "title": ""
    }
   },
   "outputs": [],
   "source": [
    "dlt.create_streaming_table(\n",
    "    name = \"silver_addresses\",\n",
    "    table_properties = {'quality' : 'silver'},\n",
    "    comment = 'This is SCD Type 2 addresses data.'\n",
    ")\n",
    "\n",
    "dlt.apply_changes(\n",
    "    target = \"silver_addresses\",\n",
    "    source = \"silver_addresses_clean\",\n",
    "    keys = [\"customer_id\"],\n",
    "    sequence_by = \"created_date\",\n",
    "    stored_as_scd_type = 2\n",
    ")\n"
   ]
  }
 ],
 "metadata": {
  "application/vnd.databricks.v1+notebook": {
   "computePreferences": {
    "hardware": {
     "accelerator": null,
     "gpuPoolId": null,
     "memory": null
    }
   },
   "dashboards": [],
   "environmentMetadata": {
    "base_environment": "",
    "environment_version": "2"
   },
   "inputWidgetPreferences": null,
   "language": "python",
   "notebookMetadata": {
    "pythonIndentUnit": 4
   },
   "notebookName": "03.process_addresses_data",
   "widgets": {}
  },
  "language_info": {
   "name": "python"
  }
 },
 "nbformat": 4,
 "nbformat_minor": 0
}
