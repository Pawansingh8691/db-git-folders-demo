{
 "cells": [
  {
   "cell_type": "markdown",
   "metadata": {
    "application/vnd.databricks.v1+cell": {
     "cellMetadata": {},
     "inputWidgets": {},
     "nuid": "d811ad71-6327-45d2-98ff-56082978b7ed",
     "showTitle": false,
     "tableResultSettingsMap": {},
     "title": ""
    }
   },
   "source": [
    "#### Process orders data using Delta Live Table"
   ]
  },
  {
   "cell_type": "markdown",
   "metadata": {
    "application/vnd.databricks.v1+cell": {
     "cellMetadata": {},
     "inputWidgets": {},
     "nuid": "77f0cf5a-df6a-4c40-afbe-832b88c4a301",
     "showTitle": false,
     "tableResultSettingsMap": {},
     "title": ""
    }
   },
   "source": [
    "#####1. Ingest the data in Delta Lake - bronze_orders"
   ]
  },
  {
   "cell_type": "code",
   "execution_count": 0,
   "metadata": {
    "application/vnd.databricks.v1+cell": {
     "cellMetadata": {
      "byteLimit": 2048000,
      "implicitDf": true,
      "rowLimit": 10000
     },
     "inputWidgets": {},
     "nuid": "b427ecb7-831e-44c1-ab53-f61df88b1d4a",
     "showTitle": false,
     "tableResultSettingsMap": {},
     "title": ""
    }
   },
   "outputs": [],
   "source": [
    "CREATE OR REFRESH STREAMING TABLE bronze_orders\n",
    "COMMENT \"This is raw data from delta lake volumne\"\n",
    "TBLPROPERTIES (\"quality\" = \"bronze\")\n",
    "AS\n",
    "SELECT *,\n",
    "    _metadata.file_path AS input_file_path,\n",
    "    current_timestamp AS ingestion_timestamp\n",
    "  FROM cloud_files(\"/Volumes/circuitbox/landing/operational_data/orders/\",\n",
    "                    \"json\",\n",
    "                    map(\"cloudFiles.inferColumnTypes\", \"true\")\n",
    "                    );"
   ]
  },
  {
   "cell_type": "markdown",
   "metadata": {
    "application/vnd.databricks.v1+cell": {
     "cellMetadata": {},
     "inputWidgets": {},
     "nuid": "99acdb57-5576-4319-b3fc-8a6b74da812b",
     "showTitle": false,
     "tableResultSettingsMap": {},
     "title": ""
    }
   },
   "source": [
    "#####2.Perform data quality checks and transform the data as required for silver_orders_clean table"
   ]
  },
  {
   "cell_type": "code",
   "execution_count": 0,
   "metadata": {
    "application/vnd.databricks.v1+cell": {
     "cellMetadata": {},
     "inputWidgets": {},
     "nuid": "7f0dfd2e-506c-4e7e-9791-4e3bbad5805b",
     "showTitle": false,
     "tableResultSettingsMap": {},
     "title": ""
    }
   },
   "outputs": [],
   "source": [
    "CREATE OR REFRESH STREAMING TABLE silver_orders_clean\n",
    "(\n",
    "  CONSTRAINT valid_customer_id EXPECT (customer_id IS NOT NULL) ON VIOLATION FAIL UPDATE,\n",
    "  CONSTRAINT valid_order_id EXPECT (order_id IS NOT NULL) ON VIOLATION FAIL UPDATE,\n",
    "  CONSTRAINT valid_order_status EXPECT (order_status IN ('Pending', 'Shipped', 'Cancelled', 'Completed')),\n",
    "  CONSTRAINT valid_payment_method EXPECT (payment_method IN ('Credit Card', 'Bank Transfer', 'PayPal'))\n",
    ")\n",
    "COMMENT 'This is cleanned orders data with all required checks.'\n",
    "TBLPROPERTIES (\"quality\" = \"silver\")\n",
    "AS\n",
    "SELECT order_id,\n",
    "        customer_id,\n",
    "        CAST(order_timestamp AS DATE) AS order_timestamp,\n",
    "        payment_method,\n",
    "        items,\n",
    "        order_status\n",
    "  FROM STREAM(LIVE.bronze_orders);"
   ]
  },
  {
   "cell_type": "markdown",
   "metadata": {
    "application/vnd.databricks.v1+cell": {
     "cellMetadata": {},
     "inputWidgets": {},
     "nuid": "eab5f7c9-4a7c-42bb-9550-2092ee24ff92",
     "showTitle": false,
     "tableResultSettingsMap": {},
     "title": ""
    }
   },
   "source": [
    "#####3. Explode the items array from the order object for silver_orders table"
   ]
  },
  {
   "cell_type": "code",
   "execution_count": 0,
   "metadata": {
    "application/vnd.databricks.v1+cell": {
     "cellMetadata": {},
     "inputWidgets": {},
     "nuid": "2a55b11a-d32a-49bd-86ef-d1e8368964f6",
     "showTitle": false,
     "tableResultSettingsMap": {},
     "title": ""
    }
   },
   "outputs": [],
   "source": [
    "CREATE OR REFRESH STREAMING TABLE silver_orders\n",
    "AS  \n",
    "  SELECT order_id,\n",
    "          customer_id,\n",
    "          order_timestamp,\n",
    "          payment_method,\n",
    "          order_status,\n",
    "          item.item_id,\n",
    "          item.name AS item_name,\n",
    "          item.price AS item_price,\n",
    "          item.quantity AS item_quantity,\n",
    "          item.category AS item_catrgory\n",
    "    FROM (\n",
    "      SELECT order_id,\n",
    "              customer_id,\n",
    "              order_timestamp,\n",
    "              payment_method,\n",
    "              order_status,\n",
    "              explode(items) as item\n",
    "          FROM STREAM(LIVE.silver_orders_clean)\n",
    "    );"
   ]
  }
 ],
 "metadata": {
  "application/vnd.databricks.v1+notebook": {
   "computePreferences": null,
   "dashboards": [],
   "environmentMetadata": {
    "base_environment": "",
    "environment_version": "2"
   },
   "inputWidgetPreferences": null,
   "language": "sql",
   "notebookMetadata": {
    "mostRecentlyExecutedCommandWithImplicitDF": {
     "commandId": 5461991128170258,
     "dataframes": [
      "_sqldf"
     ]
    },
    "pythonIndentUnit": 4
   },
   "notebookName": "04.process_orders_data",
   "widgets": {}
  },
  "language_info": {
   "name": "sql"
  }
 },
 "nbformat": 4,
 "nbformat_minor": 0
}
