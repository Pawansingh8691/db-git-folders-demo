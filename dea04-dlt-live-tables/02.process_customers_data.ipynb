{
 "cells": [
  {
   "cell_type": "code",
   "execution_count": 0,
   "metadata": {
    "application/vnd.databricks.v1+cell": {
     "cellMetadata": {},
     "inputWidgets": {},
     "nuid": "3456076e-c290-47db-8129-431ea0260386",
     "showTitle": false,
     "tableResultSettingsMap": {},
     "title": ""
    }
   },
   "outputs": [],
   "source": [
    "CREATE OR REFRESH STREAMING TABLE bronze_customers\n",
    "  COMMENT 'This is raw customers data ingested from operational_data volume'\n",
    "  TBLPROPERTIES ('quality' = 'bronze')\n",
    "AS\n",
    "SELECT *, _metadata.file_path AS input_file_path,\n",
    "current_timestamp() AS ingestion_timestamp\n",
    "FROM cloud_files('/Volumes/circuitbox/landing/operational_data/customers/',\n",
    "'json',\n",
    "map('cloudFiles.inferColumnTypes', 'true')\n",
    ")\n"
   ]
  },
  {
   "cell_type": "code",
   "execution_count": 0,
   "metadata": {
    "application/vnd.databricks.v1+cell": {
     "cellMetadata": {},
     "inputWidgets": {},
     "nuid": "d7fc6ee3-0373-46cf-9f2e-3ce69c01474c",
     "showTitle": false,
     "tableResultSettingsMap": {},
     "title": ""
    }
   },
   "outputs": [],
   "source": [
    "CREATE OR REFRESH STREAMING TABLE silver_customers_clean(\n",
    "CONSTRAINT valid_customer_id EXPECT (customer_id IS NOT NULL) ON VIOLATION FAIL UPDATE,\n",
    "CONSTRAINT valid_customer_name EXPECT (customer_name IS NOT NULL) ON VIOLATION DROP ROW,\n",
    "CONSTRAINT valid_telephone EXPECT (length(telephone) >= 10),\n",
    "CONSTRAINT valid_email EXPECT (email IS NOT NULL),\n",
    "CONSTRAINT valid_date_of_birth EXPECT(date_of_birth >= '1920-01-01')\n",
    ")\n",
    "COMMENT 'This is a table with cleanned customers data.'\n",
    "TBLPROPERTIES('quality' = 'silver')\n",
    "AS\n",
    "SELECT customer_id,\n",
    "        customer_name,\n",
    "        CAST(date_of_birth AS DATE) AS date_of_birth,\n",
    "        telephone,\n",
    "        email,\n",
    "        CAST(created_date AS DATE) AS created_date\n",
    "  FROM STREAM(LIVE.bronze_customers);"
   ]
  },
  {
   "cell_type": "code",
   "execution_count": 0,
   "metadata": {
    "application/vnd.databricks.v1+cell": {
     "cellMetadata": {
      "byteLimit": 2048000,
      "rowLimit": 10000
     },
     "inputWidgets": {},
     "nuid": "5fc0f9bd-51bb-4a0e-96fd-6001a0635f6e",
     "showTitle": false,
     "tableResultSettingsMap": {},
     "title": ""
    }
   },
   "outputs": [],
   "source": [
    "CREATE OR REFRESH STREAMING TABLE silver_customers\n",
    "COMMENT 'this is a customers data table with SCD 1'\n",
    "TBLPROPERTIES ('quality' = 'silver');"
   ]
  },
  {
   "cell_type": "code",
   "execution_count": 0,
   "metadata": {
    "application/vnd.databricks.v1+cell": {
     "cellMetadata": {},
     "inputWidgets": {},
     "nuid": "c71436ad-84b4-40b4-a061-8efda60d2d96",
     "showTitle": false,
     "tableResultSettingsMap": {},
     "title": ""
    }
   },
   "outputs": [],
   "source": [
    "APPLY CHANGES INTO LIVE.silver_customers\n",
    "  FROM STREAM(LIVE.silver_customers_clean)\n",
    "  KEYS (customer_id)\n",
    "  SEQUENCE BY (created_date)\n",
    "  STORED AS SCD TYPE 1;"
   ]
  },
  {
   "cell_type": "code",
   "execution_count": 0,
   "metadata": {
    "application/vnd.databricks.v1+cell": {
     "cellMetadata": {},
     "inputWidgets": {},
     "nuid": "96ae9537-b989-49fc-8a66-1a12fb879a14",
     "showTitle": false,
     "tableResultSettingsMap": {},
     "title": ""
    }
   },
   "outputs": [],
   "source": []
  }
 ],
 "metadata": {
  "application/vnd.databricks.v1+notebook": {
   "computePreferences": null,
   "dashboards": [],
   "environmentMetadata": {
    "base_environment": "",
    "environment_version": "2"
   },
   "inputWidgetPreferences": null,
   "language": "sql",
   "notebookMetadata": {
    "pythonIndentUnit": 4
   },
   "notebookName": "02.process_customers_data",
   "widgets": {}
  },
  "language_info": {
   "name": "sql"
  }
 },
 "nbformat": 4,
 "nbformat_minor": 0
}
