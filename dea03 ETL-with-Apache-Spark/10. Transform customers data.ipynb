{
 "cells": [
  {
   "cell_type": "markdown",
   "metadata": {
    "application/vnd.databricks.v1+cell": {
     "cellMetadata": {},
     "inputWidgets": {},
     "nuid": "3e010b94-d611-4a01-8dc6-d534da957e81",
     "showTitle": false,
     "tableResultSettingsMap": {},
     "title": ""
    }
   },
   "source": [
    "##### 1. Remove records with null customer id"
   ]
  },
  {
   "cell_type": "code",
   "execution_count": 0,
   "metadata": {
    "application/vnd.databricks.v1+cell": {
     "cellMetadata": {
      "byteLimit": 2048000,
      "implicitDf": true,
      "rowLimit": 10000
     },
     "inputWidgets": {},
     "nuid": "3d7ca2a3-9346-43af-8ed8-7b73f381bc39",
     "showTitle": false,
     "tableResultSettingsMap": {},
     "title": ""
    }
   },
   "outputs": [],
   "source": [
    "%sql\n",
    "SELECT * FROM gizmobox.bronze.v_customers\n",
    "WHERE customer_id IS NOT NULL;"
   ]
  },
  {
   "cell_type": "markdown",
   "metadata": {
    "application/vnd.databricks.v1+cell": {
     "cellMetadata": {},
     "inputWidgets": {},
     "nuid": "e892217a-bbf6-4c77-ac0d-d9156c46d66f",
     "showTitle": false,
     "tableResultSettingsMap": {},
     "title": ""
    }
   },
   "source": [
    "##### 2. Remove duplicate records"
   ]
  },
  {
   "cell_type": "code",
   "execution_count": 0,
   "metadata": {
    "application/vnd.databricks.v1+cell": {
     "cellMetadata": {
      "byteLimit": 2048000,
      "implicitDf": true,
      "rowLimit": 10000
     },
     "inputWidgets": {},
     "nuid": "e017a91c-5f8b-4481-b221-9d48a3390583",
     "showTitle": false,
     "tableResultSettingsMap": {},
     "title": ""
    }
   },
   "outputs": [],
   "source": [
    "%sql\n",
    "SELECT DISTINCT * FROM gizmobox.bronze.v_customers\n",
    "WHERE customer_id IS NOT NULL;"
   ]
  },
  {
   "cell_type": "code",
   "execution_count": 0,
   "metadata": {
    "application/vnd.databricks.v1+cell": {
     "cellMetadata": {
      "byteLimit": 2048000,
      "implicitDf": true,
      "rowLimit": 10000
     },
     "inputWidgets": {},
     "nuid": "5b71ec8e-e8ae-42aa-a080-a28af43d2a58",
     "showTitle": false,
     "tableResultSettingsMap": {},
     "title": ""
    }
   },
   "outputs": [],
   "source": [
    "%sql\n",
    "CREATE OR REPLACE TEMPORARY VIEW v_distinct_customers\n",
    "AS\n",
    "SELECT DISTINCT * FROM gizmobox.bronze.v_customers\n",
    "WHERE customer_id IS NOT NULL;"
   ]
  },
  {
   "cell_type": "markdown",
   "metadata": {
    "application/vnd.databricks.v1+cell": {
     "cellMetadata": {},
     "inputWidgets": {},
     "nuid": "31aeb82c-90e3-4629-a489-5f6d858749ad",
     "showTitle": false,
     "tableResultSettingsMap": {},
     "title": ""
    }
   },
   "source": [
    "###### 3. Remove duplicate records based on created timestamp"
   ]
  },
  {
   "cell_type": "code",
   "execution_count": 0,
   "metadata": {
    "application/vnd.databricks.v1+cell": {
     "cellMetadata": {
      "byteLimit": 2048000,
      "implicitDf": true,
      "rowLimit": 10000
     },
     "inputWidgets": {},
     "nuid": "edc2d64d-85eb-41b0-823e-099774b19f5d",
     "showTitle": false,
     "tableResultSettingsMap": {},
     "title": ""
    }
   },
   "outputs": [],
   "source": [
    "%sql\n",
    "WITH max_customers AS (\n",
    "  SELECT customer_id,\n",
    "        max(created_timestamp) as max_timestamp\n",
    "  FROM gizmobox.bronze.v_customers\n",
    "  WHERE customer_id IS NOT NULL\n",
    "  GROUP BY customer_id\n",
    ")\n",
    "SELECT c.* FROM v_distinct_customers c\n",
    "INNER JOIN max_customers m\n",
    "ON c.customer_id = m.customer_id\n",
    "AND c.created_timestamp = m.max_timestamp;"
   ]
  },
  {
   "cell_type": "markdown",
   "metadata": {
    "application/vnd.databricks.v1+cell": {
     "cellMetadata": {},
     "inputWidgets": {},
     "nuid": "ebafe545-12a5-490a-a757-d49eab38f2af",
     "showTitle": false,
     "tableResultSettingsMap": {},
     "title": ""
    }
   },
   "source": [
    "##### 4. Cast column value to the correct data type"
   ]
  },
  {
   "cell_type": "code",
   "execution_count": 0,
   "metadata": {
    "application/vnd.databricks.v1+cell": {
     "cellMetadata": {
      "byteLimit": 2048000,
      "implicitDf": true,
      "rowLimit": 10000
     },
     "inputWidgets": {},
     "nuid": "a4676b2a-aabd-4aeb-9894-62e6574748fa",
     "showTitle": false,
     "tableResultSettingsMap": {},
     "title": ""
    }
   },
   "outputs": [],
   "source": [
    "%sql\n",
    "WITH max_customers AS (\n",
    "  SELECT customer_id,\n",
    "        max(created_timestamp) as max_timestamp\n",
    "  FROM gizmobox.bronze.v_customers\n",
    "  WHERE customer_id IS NOT NULL\n",
    "  GROUP BY customer_id\n",
    ")\n",
    "SELECT CAST(c.created_timestamp as TIMESTAMP) AS created_timesatmp,\n",
    "        c.customer_id,\n",
    "        c.customer_name,\n",
    "        CAST(c.date_of_birth AS DATE) AS date_of_birth,\n",
    "        c.email,\n",
    "        CAST(c.member_since AS DATE) AS member_since,\n",
    "        c.telephone\n",
    "         FROM v_distinct_customers c\n",
    "INNER JOIN max_customers m\n",
    "ON c.customer_id = m.customer_id\n",
    "AND c.created_timestamp = m.max_timestamp;"
   ]
  },
  {
   "cell_type": "markdown",
   "metadata": {
    "application/vnd.databricks.v1+cell": {
     "cellMetadata": {},
     "inputWidgets": {},
     "nuid": "125605e2-6a23-4530-8450-74b4a92f8946",
     "showTitle": false,
     "tableResultSettingsMap": {},
     "title": ""
    }
   },
   "source": [
    "##### 5. Write customer data to Delta table"
   ]
  },
  {
   "cell_type": "code",
   "execution_count": 0,
   "metadata": {
    "application/vnd.databricks.v1+cell": {
     "cellMetadata": {
      "byteLimit": 2048000,
      "implicitDf": true,
      "rowLimit": 10000
     },
     "inputWidgets": {},
     "nuid": "56d1a0ee-306c-47a8-8d9f-330472a162d4",
     "showTitle": false,
     "tableResultSettingsMap": {},
     "title": ""
    }
   },
   "outputs": [],
   "source": [
    "%sql\n",
    "CREATE TABLE gizmobox.silver.customers\n",
    "AS \n",
    "WITH max_customers AS (\n",
    "  SELECT customer_id,\n",
    "        max(created_timestamp) as max_timestamp\n",
    "  FROM gizmobox.bronze.v_customers\n",
    "  WHERE customer_id IS NOT NULL\n",
    "  GROUP BY customer_id\n",
    ")\n",
    "SELECT CAST(c.created_timestamp as TIMESTAMP) AS created_timesatmp,\n",
    "        c.customer_id,\n",
    "        c.customer_name,\n",
    "        CAST(c.date_of_birth AS DATE) AS date_of_birth,\n",
    "        c.email,\n",
    "        CAST(c.member_since AS DATE) AS member_since,\n",
    "        c.telephone\n",
    "         FROM v_distinct_customers c\n",
    "INNER JOIN max_customers m\n",
    "ON c.customer_id = m.customer_id\n",
    "AND c.created_timestamp = m.max_timestamp;"
   ]
  },
  {
   "cell_type": "code",
   "execution_count": 0,
   "metadata": {
    "application/vnd.databricks.v1+cell": {
     "cellMetadata": {
      "byteLimit": 2048000,
      "implicitDf": true,
      "rowLimit": 10000
     },
     "inputWidgets": {},
     "nuid": "1d8d4b03-d196-40ce-b467-a3e3e6e04a5d",
     "showTitle": false,
     "tableResultSettingsMap": {},
     "title": ""
    }
   },
   "outputs": [],
   "source": [
    "%sql\n",
    "DESCRIBE EXTENDED gizmobox.silver.customers;"
   ]
  }
 ],
 "metadata": {
  "application/vnd.databricks.v1+notebook": {
   "computePreferences": null,
   "dashboards": [],
   "environmentMetadata": {
    "base_environment": "",
    "environment_version": "3"
   },
   "inputWidgetPreferences": null,
   "language": "python",
   "notebookMetadata": {
    "mostRecentlyExecutedCommandWithImplicitDF": {
     "commandId": 6782055322748372,
     "dataframes": [
      "_sqldf"
     ]
    },
    "pythonIndentUnit": 4
   },
   "notebookName": "10. Transform customers data",
   "widgets": {}
  },
  "language_info": {
   "name": "python"
  }
 },
 "nbformat": 4,
 "nbformat_minor": 0
}
