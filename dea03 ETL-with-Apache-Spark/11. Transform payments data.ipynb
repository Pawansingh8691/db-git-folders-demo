{
 "cells": [
  {
   "cell_type": "markdown",
   "metadata": {
    "application/vnd.databricks.v1+cell": {
     "cellMetadata": {},
     "inputWidgets": {},
     "nuid": "b1156dc4-878f-49fb-b591-726003bf0f44",
     "showTitle": false,
     "tableResultSettingsMap": {},
     "title": ""
    }
   },
   "source": [
    "##### Reading data from payments table"
   ]
  },
  {
   "cell_type": "code",
   "execution_count": 0,
   "metadata": {
    "application/vnd.databricks.v1+cell": {
     "cellMetadata": {
      "byteLimit": 2048000,
      "implicitDf": true,
      "rowLimit": 10000
     },
     "inputWidgets": {},
     "nuid": "d51082e7-10b5-4bce-9692-64baec96ac49",
     "showTitle": false,
     "tableResultSettingsMap": {},
     "title": ""
    }
   },
   "outputs": [],
   "source": [
    "%sql\n",
    "SELECT * FROM gizmobox.bronze.payments;"
   ]
  },
  {
   "cell_type": "markdown",
   "metadata": {
    "application/vnd.databricks.v1+cell": {
     "cellMetadata": {},
     "inputWidgets": {},
     "nuid": "e9b2eb06-e030-4356-9fac-96c82a92e8fd",
     "showTitle": false,
     "tableResultSettingsMap": {},
     "title": ""
    }
   },
   "source": [
    "##### 1. Extract date and timestamp from payment_timestamp column"
   ]
  },
  {
   "cell_type": "code",
   "execution_count": 0,
   "metadata": {
    "application/vnd.databricks.v1+cell": {
     "cellMetadata": {
      "byteLimit": 2048000,
      "implicitDf": true,
      "rowLimit": 10000
     },
     "inputWidgets": {},
     "nuid": "d7c876d8-d1ad-4895-9898-88f54ae4219c",
     "showTitle": false,
     "tableResultSettingsMap": {},
     "title": ""
    }
   },
   "outputs": [],
   "source": [
    "%sql\n",
    "SELECT payment_id,\n",
    "      CAST(date_format(payment_timestamp, 'yyyy-MM-dd') AS DATE) as payment_date,\n",
    "      date_format(payment_timestamp, 'HH:mm:ss') as payment_time,\n",
    "      payment_status,\n",
    "      payment_method\n",
    "FROM gizmobox.bronze.payments;"
   ]
  },
  {
   "cell_type": "markdown",
   "metadata": {
    "application/vnd.databricks.v1+cell": {
     "cellMetadata": {},
     "inputWidgets": {},
     "nuid": "7fa7c968-7f00-475d-a430-c21d1a5904aa",
     "showTitle": false,
     "tableResultSettingsMap": {},
     "title": ""
    }
   },
   "source": [
    "##### 2. Map payment_status to contain descriptive value"
   ]
  },
  {
   "cell_type": "code",
   "execution_count": 0,
   "metadata": {
    "application/vnd.databricks.v1+cell": {
     "cellMetadata": {
      "byteLimit": 2048000,
      "implicitDf": true,
      "rowLimit": 10000
     },
     "inputWidgets": {},
     "nuid": "165af5f9-ea5c-46b8-9ab5-a0624b0efd3b",
     "showTitle": false,
     "tableResultSettingsMap": {},
     "title": ""
    }
   },
   "outputs": [],
   "source": [
    "%sql\n",
    "SELECT payment_id,\n",
    "      CAST(date_format(payment_timestamp, 'yyyy-MM-dd') AS DATE) as payment_date,\n",
    "      date_format(payment_timestamp, 'HH:mm:ss') as payment_time,\n",
    "      CASE payment_status\n",
    "      WHEN 1 THEN 'Success'\n",
    "      WHEN 2 THEN 'Pending'\n",
    "      WHEN 3 THEN 'Cancelled'\n",
    "      WHEN 4 THEN 'Failed'\n",
    "      END AS payment_status,\n",
    "      payment_method\n",
    "FROM gizmobox.bronze.payments;"
   ]
  },
  {
   "cell_type": "markdown",
   "metadata": {
    "application/vnd.databricks.v1+cell": {
     "cellMetadata": {},
     "inputWidgets": {},
     "nuid": "0e4e1e1e-4d9e-46c8-92e3-5a4054ecf7e2",
     "showTitle": false,
     "tableResultSettingsMap": {},
     "title": ""
    }
   },
   "source": [
    "##### 3. Write payments data in Delta table"
   ]
  },
  {
   "cell_type": "code",
   "execution_count": 0,
   "metadata": {
    "application/vnd.databricks.v1+cell": {
     "cellMetadata": {
      "byteLimit": 2048000,
      "implicitDf": true,
      "rowLimit": 10000
     },
     "inputWidgets": {},
     "nuid": "36be06e2-c00d-433e-ada1-2063bf04232e",
     "showTitle": false,
     "tableResultSettingsMap": {},
     "title": ""
    }
   },
   "outputs": [],
   "source": [
    "%sql\n",
    "CREATE OR REPLACE TABLE gizmobox.silver.payments\n",
    "AS \n",
    "SELECT payment_id,\n",
    "      CAST(date_format(payment_timestamp, 'yyyy-MM-dd') AS DATE) as payment_date,\n",
    "      date_format(payment_timestamp, 'HH:mm:ss') as payment_time,\n",
    "      CASE payment_status\n",
    "      WHEN 1 THEN 'Success'\n",
    "      WHEN 2 THEN 'Pending'\n",
    "      WHEN 3 THEN 'Cancelled'\n",
    "      WHEN 4 THEN 'Failed'\n",
    "      END AS payment_status,\n",
    "      payment_method\n",
    "FROM gizmobox.bronze.payments;"
   ]
  },
  {
   "cell_type": "code",
   "execution_count": 0,
   "metadata": {
    "application/vnd.databricks.v1+cell": {
     "cellMetadata": {},
     "inputWidgets": {},
     "nuid": "def3edca-b232-4e7e-b363-e58c1a6c4941",
     "showTitle": false,
     "tableResultSettingsMap": {},
     "title": ""
    }
   },
   "outputs": [],
   "source": []
  }
 ],
 "metadata": {
  "application/vnd.databricks.v1+notebook": {
   "computePreferences": null,
   "dashboards": [],
   "environmentMetadata": {
    "base_environment": "",
    "environment_version": "3"
   },
   "inputWidgetPreferences": null,
   "language": "python",
   "notebookMetadata": {
    "mostRecentlyExecutedCommandWithImplicitDF": {
     "commandId": 6782055322748381,
     "dataframes": [
      "_sqldf"
     ]
    },
    "pythonIndentUnit": 4
   },
   "notebookName": "11. Transform payments data",
   "widgets": {}
  },
  "language_info": {
   "name": "python"
  }
 },
 "nbformat": 4,
 "nbformat_minor": 0
}
